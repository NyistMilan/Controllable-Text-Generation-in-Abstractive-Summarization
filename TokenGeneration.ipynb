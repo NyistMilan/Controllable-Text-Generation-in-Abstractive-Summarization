{
 "cells": [
  {
   "cell_type": "markdown",
   "id": "a23efed0-1ce9-45a2-872b-5be6a510338d",
   "metadata": {},
   "source": [
    "# Forcing tokens to be generated and omitted."
   ]
  },
  {
   "cell_type": "markdown",
   "id": "29f5477e-1474-4c23-b058-90282474c93d",
   "metadata": {},
   "source": [
    "### GPT2"
   ]
  },
  {
   "cell_type": "code",
   "execution_count": 83,
   "id": "832cffaa-6c15-4a2a-81f5-c57cb4ffea44",
   "metadata": {},
   "outputs": [],
   "source": [
    "from transformers import GPT2LMHeadModel, GPT2Tokenizer\n",
    "\n",
    "model = GPT2LMHeadModel.from_pretrained('gpt2')\n",
    "tokenizer = GPT2Tokenizer.from_pretrained('gpt2')"
   ]
  },
  {
   "cell_type": "code",
   "execution_count": 84,
   "id": "7bf3cd26-0923-4ef5-8fe0-b78e1d26058a",
   "metadata": {},
   "outputs": [],
   "source": [
    "prompt = \"Once upon a time\"\n",
    "bad_words = [\"alcohol\"]\n",
    "force_words = [\"fantasy\", \"beauty\"]"
   ]
  },
  {
   "cell_type": "code",
   "execution_count": 85,
   "id": "0840d3ad-1819-42ee-ae13-3d4e78b618db",
   "metadata": {},
   "outputs": [
    {
     "name": "stdout",
     "output_type": "stream",
     "text": [
      "bad_tokens:  [[5548]]\n",
      "force_tokens:  [[8842], [8737]]\n"
     ]
    }
   ],
   "source": [
    "input_ids = tokenizer.encode(prompt, return_tensors=\"pt\")\n",
    "\n",
    "bad_tokens = []\n",
    "for bad_word in bad_words:\n",
    "    token = tokenizer.encode(bad_word, add_prefix_space=True, add_special_tokens=False)\n",
    "    bad_tokens.append(token)\n",
    "\n",
    "force_tokens = []\n",
    "for force_word in force_words:\n",
    "    token = tokenizer.encode(force_word, add_prefix_space=True, add_special_tokens=False)\n",
    "    force_tokens.append(token)\n",
    "\n",
    "print(\"bad_tokens: \", bad_tokens)\n",
    "print(\"force_tokens: \", force_tokens)"
   ]
  },
  {
   "cell_type": "code",
   "execution_count": 91,
   "id": "a591fe72-8c33-47ce-b1f4-e1e9c04bba8c",
   "metadata": {},
   "outputs": [
    {
     "name": "stderr",
     "output_type": "stream",
     "text": [
      "Setting `pad_token_id` to `eos_token_id`:50256 for open-end generation.\n"
     ]
    },
    {
     "name": "stdout",
     "output_type": "stream",
     "text": [
      "generated_text:  Once upon a time, the beauty of this fantasy world is that it has been created by people who have never met each other. It's not like you're going to find out how they got together or what their relationship was about until later in life\n",
      "forced all force_words_ids: True\n",
      "omitted all bad_words_ids: True\n"
     ]
    }
   ],
   "source": [
    "output = model.generate(\n",
    "    input_ids,\n",
    "    bad_words_ids=bad_tokens,\n",
    "    force_words_ids=force_tokens,\n",
    "    num_beams=5,\n",
    "    max_length=50,\n",
    "    num_return_sequences=1,\n",
    "    no_repeat_ngram_size=1,\n",
    "    remove_invalid_values=True\n",
    ")\n",
    "generated_text = tokenizer.decode(output[0], skip_special_tokens=True)\n",
    "\n",
    "print(\"generated_text: \", generated_text)\n",
    "print(\"forced all force_words_ids:\", all(word in generated_text for word in force_words))\n",
    "print(\"omitted all bad_words_ids:\", all(word not in generated_text for word in bad_words))"
   ]
  },
  {
   "cell_type": "markdown",
   "id": "cb1ee16e-d1ab-476b-b866-6785578612ea",
   "metadata": {},
   "source": [
    "### mT5-small-HunSum-1"
   ]
  },
  {
   "cell_type": "code",
   "execution_count": 98,
   "id": "043d3b60-ae04-431d-b04c-69a5f1014333",
   "metadata": {},
   "outputs": [],
   "source": [
    "from transformers import AutoTokenizer, AutoModelForSeq2SeqLM\n",
    "\n",
    "tokenizer = AutoTokenizer.from_pretrained(\"SZTAKI-HLT/mT5-small-HunSum-1\")\n",
    "model = AutoModelForSeq2SeqLM.from_pretrained(\"SZTAKI-HLT/mT5-small-HunSum-1\")"
   ]
  },
  {
   "cell_type": "code",
   "execution_count": 184,
   "id": "89aad784-9503-469a-b408-0a3194920373",
   "metadata": {},
   "outputs": [],
   "source": [
    "prompt = \"\"\"\n",
    "A magyar szövetség vasárnapi tájékoztatása szerint a Jablonec nad Nisouban rendezett kontinensbajnokság szombati zárónapján a felnőtteknél a csoportos számban a Balázs Péter, Cséplő Kelen, Várszegi Vendel, Szász Tamás alkotta kvartett végzett bronzérmesként.\n",
    "\n",
    "A 17 dobogós helyezéssel a magyarok másodikak lettek az éremtáblázaton\n",
    "\n",
    "Kiss Bence csapatvezető szerint sikeres Európa-bajnokságot zártak a búvárok. Kiemelte: kiegyensúlyozott volt a válogatott, és külön öröm, hogy a felnőttek mellett a juniorok is eredményesen szerepeltek, mivel az ő eredményük is beleszámít az éremtáblázatba.\n",
    "\n",
    "Tájékozódási búvárúszásban Monk, csillag, öt bója, szlalom, paralel és csoportos számokban rendeznek versenyeket, ezekben külön-külön bajnokokat is avatnak.\n",
    "\"\"\"\n",
    "bad_words = [\"juniorok\"]\n",
    "force_words = [\"bronz\", \"boldogak\"]"
   ]
  },
  {
   "cell_type": "code",
   "execution_count": 185,
   "id": "3f765d19-dcb0-4e1d-8175-eae7824ca809",
   "metadata": {},
   "outputs": [
    {
     "name": "stdout",
     "output_type": "stream",
     "text": [
      "bad_tokens:  [[43599, 925]]\n",
      "force_tokens:  [[85503], [117264, 932]]\n"
     ]
    }
   ],
   "source": [
    "input_ids = tokenizer.encode(prompt, return_tensors=\"pt\")\n",
    "\n",
    "bad_tokens = []\n",
    "for bad_word in bad_words:\n",
    "    token = tokenizer.encode(bad_word, add_special_tokens=False)\n",
    "    bad_tokens.append(token)\n",
    "\n",
    "force_tokens = []\n",
    "for force_word in force_words:\n",
    "    token = tokenizer.encode(force_word, add_special_tokens=False)\n",
    "    force_tokens.append(token)\n",
    "\n",
    "print(\"bad_tokens: \", bad_tokens)\n",
    "print(\"force_tokens: \", force_tokens)"
   ]
  },
  {
   "cell_type": "code",
   "execution_count": 186,
   "id": "65f2a995-e12a-4781-8fa6-0020e45fcff6",
   "metadata": {
    "scrolled": true
   },
   "outputs": [
    {
     "name": "stdout",
     "output_type": "stream",
     "text": [
      "generated_text:  boldogak voltak a bronzérmesek az Európa-bajnokság zárónapján - közölte Kiss Bence csapatvezetője, aki szerint kiegyensúlyozott volt az eredményük, és öröm, hogy ők is eredményesen szerepeltek.\n",
      "forced all force_words_ids: True\n",
      "omitted all bad_words_ids: True\n"
     ]
    }
   ],
   "source": [
    "output = model.generate(\n",
    "    input_ids,\n",
    "    bad_words_ids=bad_tokens,\n",
    "    force_words_ids=force_tokens,\n",
    "    num_beams=2,\n",
    "    max_length=100,\n",
    "    num_return_sequences=1,\n",
    "    no_repeat_ngram_size=2,\n",
    "    remove_invalid_values=True,\n",
    "    min_length=50\n",
    ")\n",
    "generated_text = tokenizer.decode(output[0], skip_special_tokens=True)\n",
    "\n",
    "print(\"generated_text: \", generated_text)\n",
    "print(\"forced all force_words_ids:\", all(word in generated_text for word in force_words))\n",
    "print(\"omitted all bad_words_ids:\", all(word not in generated_text for word in bad_words))"
   ]
  },
  {
   "cell_type": "markdown",
   "id": "2dd03e17-0c74-4857-8814-cf1567b440f0",
   "metadata": {},
   "source": [
    "### Bert2Bert-HunSum-1"
   ]
  },
  {
   "cell_type": "code",
   "execution_count": 1,
   "id": "2dec5a5e-c310-419f-9a37-a88cb3e02ce9",
   "metadata": {},
   "outputs": [
    {
     "data": {
      "application/vnd.jupyter.widget-view+json": {
       "model_id": "d28f97f97777454288511a66eb13b04b",
       "version_major": 2,
       "version_minor": 0
      },
      "text/plain": [
       "Downloading:   0%|          | 0.00/413 [00:00<?, ?B/s]"
      ]
     },
     "metadata": {},
     "output_type": "display_data"
    },
    {
     "data": {
      "application/vnd.jupyter.widget-view+json": {
       "model_id": "b2464dbd4d7d44e48e9590d61ec3b5cb",
       "version_major": 2,
       "version_minor": 0
      },
      "text/plain": [
       "Downloading:   0%|          | 0.00/266k [00:00<?, ?B/s]"
      ]
     },
     "metadata": {},
     "output_type": "display_data"
    },
    {
     "data": {
      "application/vnd.jupyter.widget-view+json": {
       "model_id": "ef06eb49d6e14329b5e8519ce618fe68",
       "version_major": 2,
       "version_minor": 0
      },
      "text/plain": [
       "Downloading:   0%|          | 0.00/125 [00:00<?, ?B/s]"
      ]
     },
     "metadata": {},
     "output_type": "display_data"
    },
    {
     "data": {
      "application/vnd.jupyter.widget-view+json": {
       "model_id": "599847c8d3a14ae2908a3c7cd4ce95d0",
       "version_major": 2,
       "version_minor": 0
      },
      "text/plain": [
       "Downloading:   0%|          | 0.00/4.62k [00:00<?, ?B/s]"
      ]
     },
     "metadata": {},
     "output_type": "display_data"
    },
    {
     "data": {
      "application/vnd.jupyter.widget-view+json": {
       "model_id": "7e209750ce2a43408cae7cc05f84e56a",
       "version_major": 2,
       "version_minor": 0
      },
      "text/plain": [
       "Downloading:   0%|          | 0.00/952M [00:00<?, ?B/s]"
      ]
     },
     "metadata": {},
     "output_type": "display_data"
    }
   ],
   "source": [
    "from transformers import AutoTokenizer, AutoModelForSeq2SeqLM\n",
    "\n",
    "tokenizer = AutoTokenizer.from_pretrained(\"SZTAKI-HLT/Bert2Bert-HunSum-1\")\n",
    "model = AutoModelForSeq2SeqLM.from_pretrained(\"SZTAKI-HLT/Bert2Bert-HunSum-1\")"
   ]
  },
  {
   "cell_type": "code",
   "execution_count": 7,
   "id": "6b437e61-bca8-4370-b8bb-0ee48fea82ab",
   "metadata": {},
   "outputs": [],
   "source": [
    "prompt = \"\"\"\n",
    "A magyar szövetség vasárnapi tájékoztatása szerint a Jablonec nad Nisouban rendezett kontinensbajnokság szombati zárónapján a felnőtteknél a csoportos számban a Balázs Péter, Cséplő Kelen, Várszegi Vendel, Szász Tamás alkotta kvartett végzett bronzérmesként.\n",
    "\n",
    "A 17 dobogós helyezéssel a magyarok másodikak lettek az éremtáblázaton\n",
    "\n",
    "Kiss Bence csapatvezető szerint sikeres Európa-bajnokságot zártak a búvárok. Kiemelte: kiegyensúlyozott volt a válogatott, és külön öröm, hogy a felnőttek mellett a juniorok is eredményesen szerepeltek, mivel az ő eredményük is beleszámít az éremtáblázatba.\n",
    "\n",
    "Tájékozódási búvárúszásban Monk, csillag, öt bója, szlalom, paralel és csoportos számokban rendeznek versenyeket, ezekben külön-külön bajnokokat is avatnak.\n",
    "\"\"\"\n",
    "bad_words = [\"Gondomar\"]\n",
    "force_words = [\"bronz\", \"boldogak\"]"
   ]
  },
  {
   "cell_type": "code",
   "execution_count": 8,
   "id": "f433bc0e-aa23-4a40-b3e6-c9858829549c",
   "metadata": {},
   "outputs": [
    {
     "name": "stdout",
     "output_type": "stream",
     "text": [
      "bad_tokens:  [[7045, 14153, 31743]]\n",
      "force_tokens:  [[12820], [4800, 2032]]\n"
     ]
    }
   ],
   "source": [
    "input_ids = tokenizer.encode(prompt, return_tensors=\"pt\")\n",
    "\n",
    "bad_tokens = []\n",
    "for bad_word in bad_words:\n",
    "    token = tokenizer.encode(bad_word, add_special_tokens=False)\n",
    "    bad_tokens.append(token)\n",
    "\n",
    "force_tokens = []\n",
    "for force_word in force_words:\n",
    "    token = tokenizer.encode(force_word, add_special_tokens=False)\n",
    "    force_tokens.append(token)\n",
    "\n",
    "print(\"bad_tokens: \", bad_tokens)\n",
    "print(\"force_tokens: \", force_tokens)"
   ]
  },
  {
   "cell_type": "code",
   "execution_count": 11,
   "id": "d9c1f2bb-946e-4d8d-a451-076d47ff6166",
   "metadata": {},
   "outputs": [
    {
     "name": "stdout",
     "output_type": "stream",
     "text": [
      "generated_text:  A magyar boldogak a juniorok között bronzérmet szereztek a kazanyi junior uszonyos - búvárúszó Európa - bajnokság zárónapján, miután 17 dobogós helyezéssel zárták a kontinensviadalt. A felnõtteknél pedig külön - külön bajnokot avattak.\n",
      "forced all force_words_ids: True\n",
      "omitted all bad_words_ids: True\n"
     ]
    }
   ],
   "source": [
    "output = model.generate(\n",
    "    input_ids,\n",
    "    bad_words_ids=bad_tokens,\n",
    "    force_words_ids=force_tokens,\n",
    "    num_beams=10,\n",
    "    max_length=100,\n",
    "    num_return_sequences=1,\n",
    "    no_repeat_ngram_size=2,\n",
    "    remove_invalid_values=True,\n",
    "    min_length=50\n",
    ")\n",
    "generated_text = tokenizer.decode(output[0], skip_special_tokens=True)\n",
    "\n",
    "print(\"generated_text: \", generated_text)\n",
    "print(\"forced all force_words_ids:\", all(word in generated_text for word in force_words))\n",
    "print(\"omitted all bad_words_ids:\", all(word not in generated_text for word in bad_words))"
   ]
  },
  {
   "cell_type": "markdown",
   "id": "ca116a3d-c22c-413e-85ea-7d79ec06ca7a",
   "metadata": {},
   "source": [
    "## Sources to document from:\n",
    "- https://huggingface.co/blog/constrained-beam-search\n",
    "- https://huggingface.co/docs/transformers/v4.27.2/en/generation_strategies\n",
    "- https://huggingface.co/docs/transformers/v4.27.2/en/main_classes/text_generation#generation\n",
    "- https://huggingface.co/docs/transformers/v4.27.2/en/internal/generation_utils#transformers.LogitsProcessor"
   ]
  }
 ],
 "metadata": {
  "kernelspec": {
   "display_name": "Python 3 (ipykernel)",
   "language": "python",
   "name": "python3"
  },
  "language_info": {
   "codemirror_mode": {
    "name": "ipython",
    "version": 3
   },
   "file_extension": ".py",
   "mimetype": "text/x-python",
   "name": "python",
   "nbconvert_exporter": "python",
   "pygments_lexer": "ipython3",
   "version": "3.9.17"
  }
 },
 "nbformat": 4,
 "nbformat_minor": 5
}
