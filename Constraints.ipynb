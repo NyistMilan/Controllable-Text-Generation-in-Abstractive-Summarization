{
 "cells": [
  {
   "cell_type": "markdown",
   "id": "1e156f9f",
   "metadata": {},
   "source": [
    "# Imports"
   ]
  },
  {
   "cell_type": "code",
   "execution_count": 2,
   "id": "cd0fc81f",
   "metadata": {},
   "outputs": [],
   "source": [
    "from transformers import AutoTokenizer, AutoModelForSeq2SeqLM, AutoModelForTokenClassification, pipeline\n",
    "import textstat\n",
    "import huspacy\n",
    "import spacy\n",
    "\n",
    "import re\n",
    "import nltk\n",
    "import string\n",
    "import pandas as pd\n",
    "from nltk.tokenize import word_tokenize\n",
    "from nltk.corpus import stopwords\n",
    "from rouge import Rouge \n",
    "from nltk.translate.bleu_score import sentence_bleu, SmoothingFunction\n",
    "\n",
    "nltk.download('punkt')\n",
    "nltk.download('stopwords')"
   ]
  },
  {
   "cell_type": "markdown",
   "id": "ac5c3ee0",
   "metadata": {},
   "source": [
    "# Models"
   ]
  },
  {
   "cell_type": "code",
   "execution_count": 59,
   "id": "32862cc0",
   "metadata": {},
   "outputs": [],
   "source": [
    "tokenizer = AutoTokenizer.from_pretrained(\"SZTAKI-HLT/mT5-base-HunSum-1\")\n",
    "model = AutoModelForSeq2SeqLM.from_pretrained(\"SZTAKI-HLT/mT5-base-HunSum-1\")"
   ]
  },
  {
   "cell_type": "code",
   "execution_count": 110,
   "id": "3bcb280f",
   "metadata": {},
   "outputs": [],
   "source": [
    "tokenizer = AutoTokenizer.from_pretrained(\"SZTAKI-HLT/Bert2Bert-HunSum-1\")\n",
    "model = AutoModelForSeq2SeqLM.from_pretrained(\"SZTAKI-HLT/Bert2Bert-HunSum-1\")"
   ]
  },
  {
   "cell_type": "markdown",
   "id": "3ea2c09b",
   "metadata": {},
   "source": [
    "# Control Case"
   ]
  },
  {
   "cell_type": "code",
   "execution_count": 5,
   "id": "be114ec7",
   "metadata": {},
   "outputs": [],
   "source": [
    "def run_control_case(prompt, model, tokenizer):\n",
    "    print(f\"Model: {model.config.to_dict()['_name_or_path']}\")\n",
    "    print(\"----------------------------------------------\")\n",
    "\n",
    "    input_ids = tokenizer.encode(prompt, return_tensors=\"pt\")\n",
    "    output = model.generate(\n",
    "        input_ids,\n",
    "        num_beams=10,\n",
    "        no_repeat_ngram_size=2,\n",
    "        encoder_no_repeat_ngram_size=3,\n",
    "        length_penalty=2,\n",
    "        max_length=128,\n",
    "        early_stopping=True\n",
    "    )\n",
    "    \n",
    "    generated_text = tokenizer.decode(output[0], skip_special_tokens=True)\n",
    "    print(\"Output: \", generated_text)"
   ]
  },
  {
   "cell_type": "markdown",
   "id": "cb07a607",
   "metadata": {},
   "source": [
    "# Force Word Tests"
   ]
  },
  {
   "cell_type": "code",
   "execution_count": 109,
   "id": "d92d36d6",
   "metadata": {},
   "outputs": [],
   "source": [
    "def run_force_word_test_case(test_case, prompt, force_words, model, tokenizer):\n",
    "    print(f\"Test Case: {test_case}\")\n",
    "    print(f\"Model: {model.config.to_dict()['_name_or_path']}\")\n",
    "    print(\"----------------------------------------------\")\n",
    "    \n",
    "    input_ids = tokenizer.encode(prompt, return_tensors=\"pt\")\n",
    "    force_tokens = []\n",
    "    for force_word in force_words:\n",
    "        token = tokenizer.encode(force_word, add_special_tokens=False)\n",
    "        force_tokens.append(token)\n",
    "        \n",
    "    output = model.generate(\n",
    "        input_ids,\n",
    "        force_words_ids=force_tokens,\n",
    "        num_beams=10,\n",
    "        no_repeat_ngram_size=2,\n",
    "        encoder_no_repeat_ngram_size=3,\n",
    "        length_penalty=2,\n",
    "        max_length=128,\n",
    "        early_stopping=True\n",
    "    )\n",
    "    \n",
    "    generated_text = tokenizer.decode(output[0], skip_special_tokens=True)\n",
    "    print(\"Output: \", generated_text)\n",
    "    print()\n",
    "    print(\"forced all force_words_ids:\", all(word in generated_text for word in force_words))"
   ]
  },
  {
   "cell_type": "markdown",
   "id": "c851160c",
   "metadata": {},
   "source": [
    "## Test Case 1: Text already has the force_word"
   ]
  },
  {
   "cell_type": "code",
   "execution_count": 30,
   "id": "484f1b5e",
   "metadata": {},
   "outputs": [],
   "source": [
    "prompt = \"\"\"\n",
    "Nyilvánosan bocsánatot kért az HBO és a Max vezérigazgatója és elnöke, Casey Bloys azután, hogy kiderült, hamis Twitter-fiókokat használt arra, hogy HBO-sorozatokról szóló negatív kritikák alatt kommenteljen, írja a Variety.\n",
    "\n",
    "Bloys bocsánatkérésében arról beszélt, hogy bár tudja, „hülye ötlet volt”, az motiválta, hogy nagyon szenvedélyesen szereti a csatornája műsorait, illetve „azokat az embereket, akik dolgoznak rajtuk”. A vezérigazgató arról beszélt, csak azt akarja, hogy „a műsorok nagyszerűek legyenek, az emberek szeressék őket”.\n",
    "„Nagyon fontos számomra, hogy mit gondolnak a műsorokról. Erre gondoltam akkor is, amikor 2020–2021-ben otthonról dolgoztam és egészségtelenül sokat lapozgattam a Twittert. Aztán támadt egy hülye ötletem, hogy kiadjam a frusztrációmat” – összegezte Bloys. Bocsánatot kért a kritikusoktól, majd beszélt még arról is, hogy hat fiókot kezelt másfél éven át. Bloys bocsánatkérése egy nappal azután hangzott el, hogy a Rolling Stone közzétett egy cikket, amely részletezi az ügyvezető és az HBO elleni indított pert – ezt a vállalat egy korábbi alkalmazottja, Sumy Temori indította el, aki úgy érzi, jogtalanul rúgták ki őt.\n",
    "\n",
    "A lap ehhez vett elő 2020-as és 2021-es üzeneteket, amelyekben Bloys többször is beszélt arról, hogy kamu Twitter-fiókokkal kéne válaszolni a negatívan író kritikusoknak. Temori akkoriban ügyvezetői asszisztens volt, állította, hogy utasították ezeknek a profiloknak az elkészítésére.\n",
    "\"\"\"\n",
    "force_words = [\"HBO\"]\n",
    "test_case = \"Text already has the force_word\""
   ]
  },
  {
   "cell_type": "code",
   "execution_count": 34,
   "id": "d8ed0e9f",
   "metadata": {},
   "outputs": [
    {
     "name": "stdout",
     "output_type": "stream",
     "text": [
      "Model: SZTAKI-HLT/Bert2Bert-HunSum-1\n",
      "----------------------------------------------\n",
      "Output:  A HBO vezérigazgatója elismerte, hogy igazak voltak azok a vádak, amiket az HBO - t ért negatív kommentek miatt indított.\n"
     ]
    }
   ],
   "source": [
    "run_control_case(prompt, model, tokenizer)"
   ]
  },
  {
   "cell_type": "code",
   "execution_count": 35,
   "id": "6f85df5f",
   "metadata": {},
   "outputs": [
    {
     "name": "stdout",
     "output_type": "stream",
     "text": [
      "Test Case: Text already has the force_word\n",
      "Model: SZTAKI-HLT/Bert2Bert-HunSum-1\n",
      "----------------------------------------------\n",
      "Output:  A HBO vezérigazgatója elismerte, hogy igazak voltak azok a vádak, amiket az HBO - t ért negatív kommentek miatt indított.\n",
      "\n",
      "forced all force_words_ids: True\n"
     ]
    }
   ],
   "source": [
    "run_force_word_test_case(test_case, prompt, force_words, model, tokenizer)"
   ]
  },
  {
   "cell_type": "markdown",
   "id": "68e87e41",
   "metadata": {},
   "source": [
    "## Test Case 2: Text already has multiple force_words"
   ]
  },
  {
   "cell_type": "code",
   "execution_count": 40,
   "id": "f844b04c",
   "metadata": {},
   "outputs": [],
   "source": [
    "prompt = \"\"\"\n",
    "Orbán Viktor magyar miniszterelnök csütörtökön kijelentette, hogy büszke Vlagyimir Putyin orosz elnökkel való kapcsolataira, akivel ebben a hónapban Kínában találkozott mindannak ellenére, hogy az Európai Unió kitartó erőfeszítéseket tesz Moszkva elszigetelésére az Ukrajna elleni háború miatt.\n",
    "\n",
    "Orbán Viktor az EU 27 tagállamának vezetőit tömörítő brüsszeli csúcstalálkozóra érkezve beszélt erről. A magyar kormánynak nagyon világos és átlátható a stratégiája, ami eltér a többség, „valószínűleg az önök stratégiájától is” – mondta a miniszterelnök egy újságírói kérdésre. „Mindent szeretnénk megtenni a béke érdekében. Ezért minden kommunikációs vonalat nyitva tartunk az oroszok felé, különben nem lesz esély a békére. Ez egy stratégia, ezért büszkék vagyunk rá.\n",
    "\n",
    "Mi vagyunk az egyetlenek, akik a béke nevében és érdekében beszélünk, ami mindenkinek érdeke lenne Európában”.\n",
    "\n",
    "Költségvetési emelés: hiányoznak a „politikai érvek”\n",
    "A magyar miniszterelnököt megkérdezték róla, mi a véleménye a többéves uniós költségvetés emeléséről. (Orbán Viktor korábban ezt elfogadhatatlannak nevezte, ebben a cikkünkben írtunk róla, mire kér az EU több pénzt és hol sántítanak a magyar kormány ellenérvei.) „Több pénzt akarnak beszedni a tagállamoktól, köztük tőlünk is, hogy odaadhassák migráció… befogadáspolitikára” és „az ukránoknak” – mondta a miniszterelnök. Az Európai Bizottság ugyanolyan, a migrációt visszafogó megállapodásokra kért többletforrásokat, mint amilyet Tunéziával kötött és Egyiptommal tervez, de Orbán Viktor arról beszélt, „nem akarunk pénzt adni a migránsoknak”.\n",
    "\"\"\"\n",
    "force_words = [\"Vlagyimir\", \"Putyin\"]\n",
    "test_case = \"Text already has the force_word\""
   ]
  },
  {
   "cell_type": "code",
   "execution_count": 41,
   "id": "8f801d7a",
   "metadata": {},
   "outputs": [
    {
     "name": "stdout",
     "output_type": "stream",
     "text": [
      "Model: SZTAKI-HLT/mT5-base-HunSum-1\n",
      "----------------------------------------------\n",
      "Output:  A miniszterelnök Brüsszelben beszélt az EU-csúcs előtti utolsó beszédéről, és arról is, mit gondol a költségvetés emeléséről.\n"
     ]
    }
   ],
   "source": [
    "run_control_case(prompt, model, tokenizer)"
   ]
  },
  {
   "cell_type": "code",
   "execution_count": 42,
   "id": "9b69f3f4",
   "metadata": {},
   "outputs": [
    {
     "name": "stdout",
     "output_type": "stream",
     "text": [
      "Test Case: Text already has the force_word\n",
      "Model: SZTAKI-HLT/mT5-base-HunSum-1\n",
      "----------------------------------------------\n",
      "Output:  A miniszterelnök Putyinnal való kapcsolatairól beszélt Brüsszelben, ahol az EU-csúcstalálkozón elmondta, büszke rá, és büszkén fogadja a háborús oroszokat. A költségvetés emelése viszont elfogadhatatlan, mert hiányoznak az európai politikai ervek. Az uniós tagállamok vezetőinek csúcstalálkozóján úgy fogalmazott, nem akarnak pénzt adni az ukrán állampolgároknak, de ígéretet tett arra, többet akar adni az unió tőle Vlagyimir\n",
      "\n",
      "forced all force_words_ids: True\n"
     ]
    }
   ],
   "source": [
    "run_force_word_test_case(test_case, prompt, force_words, model, tokenizer)"
   ]
  },
  {
   "cell_type": "markdown",
   "id": "b16859de",
   "metadata": {},
   "source": [
    "## Test Case 3: Proper Nouns"
   ]
  },
  {
   "cell_type": "code",
   "execution_count": 43,
   "id": "9c0678c0",
   "metadata": {},
   "outputs": [],
   "source": [
    "prompt = \"\"\"\n",
    "Orbán Viktor magyar miniszterelnök csütörtökön kijelentette, hogy büszke Vlagyimir Putyin orosz elnökkel való kapcsolataira, akivel ebben a hónapban Kínában találkozott mindannak ellenére, hogy az Európai Unió kitartó erőfeszítéseket tesz Moszkva elszigetelésére az Ukrajna elleni háború miatt.\n",
    "\n",
    "Orbán Viktor az EU 27 tagállamának vezetőit tömörítő brüsszeli csúcstalálkozóra érkezve beszélt erről. A magyar kormánynak nagyon világos és átlátható a stratégiája, ami eltér a többség, „valószínűleg az önök stratégiájától is” – mondta a miniszterelnök egy újságírói kérdésre. „Mindent szeretnénk megtenni a béke érdekében. Ezért minden kommunikációs vonalat nyitva tartunk az oroszok felé, különben nem lesz esély a békére. Ez egy stratégia, ezért büszkék vagyunk rá.\n",
    "\n",
    "Mi vagyunk az egyetlenek, akik a béke nevében és érdekében beszélünk, ami mindenkinek érdeke lenne Európában”.\n",
    "\n",
    "Költségvetési emelés: hiányoznak a „politikai érvek”\n",
    "A magyar miniszterelnököt megkérdezték róla, mi a véleménye a többéves uniós költségvetés emeléséről. (Orbán Viktor korábban ezt elfogadhatatlannak nevezte, ebben a cikkünkben írtunk róla, mire kér az EU több pénzt és hol sántítanak a magyar kormány ellenérvei.) „Több pénzt akarnak beszedni a tagállamoktól, köztük tőlünk is, hogy odaadhassák migráció… befogadáspolitikára” és „az ukránoknak” – mondta a miniszterelnök. Az Európai Bizottság ugyanolyan, a migrációt visszafogó megállapodásokra kért többletforrásokat, mint amilyet Tunéziával kötött és Egyiptommal tervez, de Orbán Viktor arról beszélt, „nem akarunk pénzt adni a migránsoknak”.\n",
    "\"\"\"\n",
    "force_words = [\"Vlagyimir Putyin\"]\n",
    "test_case = \"Text already has the force_word\""
   ]
  },
  {
   "cell_type": "code",
   "execution_count": 47,
   "id": "b6c08fae",
   "metadata": {},
   "outputs": [
    {
     "name": "stdout",
     "output_type": "stream",
     "text": [
      "Model: SZTAKI-HLT/Bert2Bert-HunSum-1\n",
      "----------------------------------------------\n",
      "Output:  A Viktor - Putyin csúcson a magyar miniszterelnök azt mondta, az EU - nak nem szabad beleavatkoznia az ukrajnai konfliktusba, mert az a béke mellett szól.\n"
     ]
    }
   ],
   "source": [
    "run_control_case(prompt, model, tokenizer)"
   ]
  },
  {
   "cell_type": "code",
   "execution_count": 48,
   "id": "4063cae7",
   "metadata": {},
   "outputs": [
    {
     "name": "stdout",
     "output_type": "stream",
     "text": [
      "Test Case: Text already has the force_word\n",
      "Model: SZTAKI-HLT/Bert2Bert-HunSum-1\n",
      "----------------------------------------------\n",
      "Output:  A Viktor - Vlagyimir Putyin csúcstalálkozón a magyar miniszterelnök azt mondta, az EU - nak nem szabad beleavatkoznia az ukrajnai konfliktusba, mert az a béke és a biztonság politikája. Az EU 27 tagországának vezetõit tömörítõ Európai Unió 27 tagállamainak vezetőit kérdeztük.\n",
      "\n",
      "forced all force_words_ids: True\n"
     ]
    }
   ],
   "source": [
    "run_force_word_test_case(test_case, prompt, force_words, model, tokenizer)"
   ]
  },
  {
   "cell_type": "markdown",
   "id": "43aa4654",
   "metadata": {},
   "source": [
    "## Test Case 4: Common Words with Multiple Meanings"
   ]
  },
  {
   "cell_type": "code",
   "execution_count": 49,
   "id": "7520a5c8",
   "metadata": {},
   "outputs": [],
   "source": [
    "prompt = \"\"\"\n",
    "Azért járt rendezvényről rendezvényre autóval Karácsony Gergely főpolgármester az autómentes hétvégén, mert egy térdsérülés miatt nem tudott biciklizni – válaszolta a Telex kérdéseire a Főpolgármesteri Hivatal Sajtókapcsolati Csoportja.\n",
    "\n",
    "Hétfőn a Bors írt arról, hogy Karácsony mindenhová autóval ment a hétvégén, sőt azt írták, hogy a sofőrje még szabálytalanul is parkolt. Emellett a különböző rendezvényeken pont a kerékpározást és a tömegközlekedést népszerűsítette, még villamosokkal is fotózkodott.\n",
    "\n",
    "A cikk miatt arról kérdeztük a Főpolgármesteri hivatalt, hogy valóban autózott-e, és arról, hogy valóban szabálytalanul parkolt-e.\n",
    "\n",
    "„A főpolgármester a hétvégén öt különböző fővárosi programon vett részt. A bicikli használatát egy térdsérülés akadályozta. Ellentétben a propagandamédia állításával a szolgálati autó sofőrje nem parkolt a járdán, hanem egy társasház kapubeállójában állt meg a kiszállás idejére szabályosan”\n",
    "\n",
    "– áll a hivatal válaszában.\n",
    "Arra is rákérdeztünk, hogy a főpolgármester tudott-e volna tömegközlekedési eszközzel menni egyik rendezvényről a másikra, de erre nem kaptunk választ.\n",
    "\"\"\"\n",
    "force_words = [\"Karácsony\"]\n",
    "test_case = \"Common Words with Multiple Meanings\""
   ]
  },
  {
   "cell_type": "code",
   "execution_count": 53,
   "id": "9c7e8764",
   "metadata": {},
   "outputs": [
    {
     "name": "stdout",
     "output_type": "stream",
     "text": [
      "Model: SZTAKI-HLT/mT5-base-HunSum-1\n",
      "----------------------------------------------\n",
      "Output:  A Fidesz viszont nem zsarol vagy követel – egyebek mellett erről beszélt a 24.hu-nak adott interjúban Schmitt Pál. A Hit Gyülekezetének vezetője coming outolt.\n"
     ]
    }
   ],
   "source": [
    "run_control_case(prompt, model, tokenizer)"
   ]
  },
  {
   "cell_type": "code",
   "execution_count": 54,
   "id": "47f52ffb",
   "metadata": {
    "scrolled": true
   },
   "outputs": [
    {
     "name": "stdout",
     "output_type": "stream",
     "text": [
      "Test Case: Common Words with Multiple Meanings\n",
      "Model: SZTAKI-HLT/mT5-base-HunSum-1\n",
      "----------------------------------------------\n",
      "Output:  A főpolgármester nem tudta megakadályozni a biciklihasználatot, ezért ment autóval rendezvényekről rendezvényre. A Telexnek adott válaszában úgy nyilatkozott, Karácsony nem volt hajlandó tömegközlekedéssel közlekedni, és nem is tudott kerékpározni.\n",
      "\n",
      "forced all force_words_ids: True\n"
     ]
    }
   ],
   "source": [
    "run_force_word_test_case(test_case, prompt, force_words, model, tokenizer)"
   ]
  },
  {
   "cell_type": "code",
   "execution_count": 111,
   "id": "77caa09a",
   "metadata": {},
   "outputs": [],
   "source": [
    "prompt = \"\"\"\n",
    "Emberölés bűntettének kísérlete miatt emelt vádat a Veszprém Megyei Főügyészség azzal a 36 éves férfival szemben, aki egy évvel ezelőtt karácsony este megkéselte a barátját Sümegen – derül ki az ügyészség közleményéből.\n",
    "\n",
    "A vádirat szerint a két barát rendszeresen együtt ivott a helyi kocsmában, 2021. december 24-én viszont nem oda, hanem egyikük házába mentek, ahol iszogattak, zenét hallgattak és beszélgettek. Este tíz óra körül már mindketten ittasak voltak, amikor az egyik férfi kiment a fürdőszobába, majd visszafelé a konyhaasztalról felvett egy 13 centiméter pengehosszúságú kést, a szobába érve pedig minden előzetes ok nélkül mellkason szúrta a barátját, akinek mindössze annyit mondott, hogy\n",
    "\n",
    "„Ne félj, nem fog fájni!”\n",
    "\n",
    "A barát a szúrás erejétől a mögötte lévő ágyra esett, és eszméletét vesztette, a férfi pedig távozott.\n",
    "\n",
    "Amikor a mellkason szúrt férfi magához tért, megpróbálta felhívni a testvérét, aki nem vette fel. Mivel állapota rosszabbodott, éjjel két óra körül egy videót küldött magáról a testvérének, és megírta neki, hogy megkéselték. A testvér ezt már észlelte, értesítette a rendőrséget és a mentőket, akik az életveszélyes állapotban lévő sértettet kórházba szállították. A férfi életét végül a szakszerű orvosi beavatkozás mentette meg.\n",
    "\n",
    "Az ügyészség a vádiratában az elkövetővel szemben börtönbüntetés kiszabását és a közügyek gyakorlásától történő eltiltását indítványozta azzal, hogy az elkészítő ülésen történő beismerése esetén a Veszprémi Törvényszék kilenc év börtönbüntetésre és kilenc év közügyek gyakorlásától eltiltásra ítélje. Az ügyészség annak megállapítását is indítványozta, hogy bűnössége esetén a vádlott a törvény rendelkezésénél fogva nem bocsátható feltételes szabadságra.\n",
    "\"\"\"\n",
    "force_words = [\"karácsony\"]\n",
    "test_case = \"Common Words with Multiple Meanings\""
   ]
  },
  {
   "cell_type": "code",
   "execution_count": 112,
   "id": "c3de376e",
   "metadata": {},
   "outputs": [
    {
     "name": "stdout",
     "output_type": "stream",
     "text": [
      "Model: SZTAKI-HLT/Bert2Bert-HunSum-1\n",
      "----------------------------------------------\n",
      "Output:  A barát egy évvel ezelõtt veszett össze a testvérével, majd a veszekedés közben egy késsel a mellkasába szúrt.\n"
     ]
    }
   ],
   "source": [
    "run_control_case(prompt, model, tokenizer)"
   ]
  },
  {
   "cell_type": "code",
   "execution_count": 113,
   "id": "18b1f5c6",
   "metadata": {},
   "outputs": [
    {
     "name": "stdout",
     "output_type": "stream",
     "text": [
      "Test Case: Common Words with Multiple Meanings\n",
      "Model: SZTAKI-HLT/Bert2Bert-HunSum-1\n",
      "----------------------------------------------\n",
      "Output:  A testvér nem vette észre, hogy a férfi nem iszik. Az áldozat életét a mentõk mentették meg, az ügyészség vádat emeltek ellene, kilenc év börtönt indítványoz az ügyész. A fiú életét azonban nem mentette fel a bíróság, a testvért pedig örökre eltiltották foglalkozása gyakorlásától, így a vádlottnak kilenc évet kell rácsok mögött töltenie, ha nem kap gyors orvosi beavatkozást, mint ahogy tette azt egy másik vádlottal szemben is - írja a police. hu a Veszprém megyei ügyészségre hivatkozva. Ittas, veszekedõ barátját késelte meg egy férfi, aki az eset karácsony\n",
      "\n",
      "forced all force_words_ids: True\n"
     ]
    }
   ],
   "source": [
    "run_force_word_test_case(test_case, prompt, force_words, model, tokenizer)"
   ]
  },
  {
   "cell_type": "markdown",
   "id": "baeb160f",
   "metadata": {},
   "source": [
    "## Test Case 5: Emotional Language"
   ]
  },
  {
   "cell_type": "code",
   "execution_count": 122,
   "id": "6e06acc9",
   "metadata": {},
   "outputs": [],
   "source": [
    "prompt = \"\"\"\n",
    "Azt hihetnénk, hogy a válságok, tragédiák idején jobban összefogunk embertársainkkal és empatikusabban viselkedünk a másikkal. A tapasztalat viszont nem egészen ezt mutatja. Míg sokan vannak azok, akik valóban elkezdenek segíteni – az orosz-ukrán háború kitörésekor is rengetegen kezdetek adománygyűjtésbe, ajánlottak fel szállást vagy egyéb módon segítettek és segítenek azóta is –, addig csaknem ugyanennyinek tűnik azoknak a száma is, akik mintha csak erre a szikrára vártak volna, hogy frusztrációjukat az online térben kiadva magukból tovább szítsák a feszültséget, és megértés helyett inkább az agressziót, támadást és veszekedést választják.\n",
    "\n",
    "Traumáink fogságában\n",
    "„Szerintem érdemes több komponenst figyelembe venni. Ha van egy csoport, amely fenyegetve érzi magát, valamint krízisbe kerül – hiszen nem lehet kikerülni a problémát, a korábbi megoldások pedig nem tűnnek elégségesnek –, akkor elindul egyfajta regresszív (a regresszió a fejlődés során már túlhaladott fázisok vagy stádiumok újbóli megjelenése – a szerk.) folyamat. Ilyenkor nem konstruktív, felnőtt módon állunk egy helyzethez – magyarázza Lázár Gergely pszichológus. – Számtalan bizonytalan információval találkozunk. Mikor ér véget a háború? Ki a felelős érte? Érinteni fog-e bennünket? Ha érint, akkor emberéletet is követelhet az országtól vagy csupán gazdasági következményekkel kell számolnunk? És így tovább. Mindenki válaszokat akar. Ez normális.\n",
    "\n",
    "Az agresszióban tehát ott van a fenyegettség érzése, a törekvés arra, hogy valahogy kontrollálni próbáljuk az eseményeket, meg akarjuk védeni magunkat, és ez paradox módon kicsiben – például az online térben – harcot generál.\n",
    "\n",
    "A másik ilyen az általános elvárásainkból indul ki. Ha egy nagyon intelligens ember például érzelmi szituációkban kritikán alul viselkedik, az feltűnik. Ha egy alapvetően összetartást, empátiát igénylő környezetben valaki agresszív, az is. Tehát nem feltétlenül biztos, hogy »sokkal agresszívebbek lennénk az online térben, mint máskor«, de valószínű, hogy jobban szemet szúr számunkra ez a viselkedés.”\n",
    "\"\"\"\n",
    "force_words = [\"agresszió\"]\n",
    "test_case = \"Emotional Language\""
   ]
  },
  {
   "cell_type": "code",
   "execution_count": 125,
   "id": "85f36514",
   "metadata": {},
   "outputs": [
    {
     "name": "stdout",
     "output_type": "stream",
     "text": [
      "Model: SZTAKI-HLT/mT5-base-HunSum-1\n",
      "----------------------------------------------\n",
      "Output:  Egyre több olyan ember van Magyarországon, aki a közösségi médiában, az interneten keresztül próbálja elviselni az emberek feszültségét, fenyegetését és támadását. A pszichológust kérdeztük arról, miként lehet hatékonyan kezelni az agresszív viselkedést, és milyen következményei lehetnek annak, ha valaki úgy érzi, nincs rá szükség.\n"
     ]
    }
   ],
   "source": [
    "run_control_case(prompt, model, tokenizer)"
   ]
  },
  {
   "cell_type": "code",
   "execution_count": 126,
   "id": "776f2800",
   "metadata": {},
   "outputs": [
    {
     "name": "stdout",
     "output_type": "stream",
     "text": [
      "Test Case: Emotional Language\n",
      "Model: SZTAKI-HLT/mT5-base-HunSum-1\n",
      "----------------------------------------------\n",
      "Output:  A háborúk idején a legtöbben úgy érzik magukat, mintha nem is lenne olyan könnyű dolguk. A helyzet akkor alakulhat ki, ha az emberek nem csak saját magukkal, hanem az egész világgal is szembesülnek. Az agresszív viselkedés azonban sokkal nagyobb veszélyt jelenthet az életünkre, és ezzel együtt növelheti az aggodalmukat is. Lázár György pszichológust kérdeztük arról, milyen eszközökkel lehet hatékonyan megelőzni agresszió\n",
      "\n",
      "forced all force_words_ids: True\n"
     ]
    }
   ],
   "source": [
    "run_force_word_test_case(test_case, prompt, force_words, model, tokenizer)"
   ]
  },
  {
   "cell_type": "markdown",
   "id": "615f0686",
   "metadata": {},
   "source": [
    "## Test Case 6: Idiomatic Expressions"
   ]
  },
  {
   "cell_type": "code",
   "execution_count": 133,
   "id": "b32dda7d",
   "metadata": {},
   "outputs": [],
   "source": [
    "prompt = \"\"\"\n",
    "Narendra Modi indiai miniszterelnök a Nemzetközi Olimpiai Bizottság (NOB) 141. ülésszakának megnyitó ünnepségén Mumbaiban megerősítette országa elkötelezettségét a 2036-os olimpia megrendezése mellett, és kijelentette, hogy \"minden követ megmozgatnak\" ennek érdekében.\n",
    "\n",
    "Az olimpiai játékok megrendezése régi vágya Indiáénak, a miniszterelnök bizakodását fejezte ki, hogy a NOB támogatását is elnyeri ezekhez a törekvésekhez.\n",
    "\n",
    "A KÖVETKEZŐ NYÁRI JÁTÉKOKAT A TERVEK SZERINT 2024-BEN PÁRIZSBAN, MAJD 2028-BAN LOS ANGELESBEN RENDEZIK MEG, A 2032-ES OLIMPIA RENDEZŐ VÁROSÁNAK PEDIG AZ AUSZTRÁLIAI BRISBANE-T VÁLASZTOTTÁK.\n",
    "\n",
    "A NOB nyilatkozata szerint több érdeklődő is van a későbbi játékokra, és Indiát is nagy esélyesnek látják. A dél-ázsiai országnak tett gesztus, hogy a 2028-as olimpiai játékok programjába beveszi a krikettet, amely különösen Indiában örvend óriási népszerűségnek.\n",
    "\"\"\"\n",
    "force_words = [\"minden követ megmozgat\"]\n",
    "test_case = \"Idiomatic Expressions\""
   ]
  },
  {
   "cell_type": "code",
   "execution_count": 134,
   "id": "4140666c",
   "metadata": {},
   "outputs": [
    {
     "name": "stdout",
     "output_type": "stream",
     "text": [
      "Model: SZTAKI-HLT/Bert2Bert-HunSum-1\n",
      "----------------------------------------------\n",
      "Output:  A indiai kormány hivatalosan is bejelentette, hogy India támogatja az olimpiai játékok megpályázását - írja a The Daily Telegraph\n"
     ]
    }
   ],
   "source": [
    "run_control_case(prompt, model, tokenizer)"
   ]
  },
  {
   "cell_type": "code",
   "execution_count": 135,
   "id": "c9ffb66a",
   "metadata": {},
   "outputs": [
    {
     "name": "stdout",
     "output_type": "stream",
     "text": [
      "Test Case: Idiomatic Expressions\n",
      "Model: SZTAKI-HLT/Bert2Bert-HunSum-1\n",
      "----------------------------------------------\n",
      "Output:  A indiai kormány bejelentette, hogy India támogatja a 2026 - os olimpiát, és a Nemzetközi Olimpia Bizottság is támogatja az eseményt. A Nemzetközi Olimpiai Iroda közleménye szerint a dél - koreai kormány támogatja Indiát, de nem minden esetben támogatja azt. Az olimpia megrendezését a 2040 - es olimpiára beveszi India, így a kriktik is nagy eséllyel pályáznak a játékok megrendezésére. India a jelek szerint nem áll le, folytatja a felkészülést a következő ötkarikás játékokra. Eközben az indiai olimpiai játékok szervezõi is bejelentették : a NDK - n kívül más országokkal is tárgyal minden követ megmozgat\n",
      "\n",
      "forced all force_words_ids: True\n"
     ]
    }
   ],
   "source": [
    "run_force_word_test_case(test_case, prompt, force_words, model, tokenizer)"
   ]
  },
  {
   "cell_type": "markdown",
   "id": "17d2eda9",
   "metadata": {},
   "source": [
    "## Test Case 7: Historical Context"
   ]
  },
  {
   "cell_type": "code",
   "execution_count": 153,
   "id": "400721b8",
   "metadata": {},
   "outputs": [],
   "source": [
    "prompt = \"\"\"\n",
    "Ma van a trianoni békeszerződés 102. évfordulója, ez a nap 2010. óta Magyarországon a nemzeti összetartozás napja is egyben. Az évfordulóról a pártok és politikusok is megemlékeztek.\n",
    "\n",
    "Fidesz – A kormánypárt Orbán Viktor soraival emlékezett meg az összetartozás napjáról: „Van egy nagy nemzet, amely messze túlnyúlik az országhatárokon. Ennek a lelki közösségnek a megőrzése olyan nehéz száz év után, mint amit megéltünk, mégiscsak sikerült. A nemzeti összetartozás gondolata, érzésvilága erős, talán erősebb, mint a korábbi évtizedekben bármikor is volt.”\n",
    "\n",
    "KDNP – Közleményükben azt írják, hogy „történelmünk során sokszor váltunk nagyhatalmak játékszerévé, de mindig ragaszkodtunk függetlenségünkhöz, nyelvünkhöz, hitünkhöz, kultúránkhoz, tradícióinkhoz, amelyek biztosították nemzetünk fennmaradását a legnehezebb korszakokban is.” A párt kitért arra is, hogy szerintük a baloldali-liberális politika el akarta magától taszítani a határon túli magyarságot. Továbbá kiemelik, hogy Magyarország segítségnyújtását Kárpátaljának: „Az anyaország mindig segítő kezet nyújt a bajbajutottaknak, most különösképpen a kárpátaljai testvéreinknek”\n",
    "\n",
    "Karácsony Gergely – „Trianon közös tragédiája a magyar nemzetnek, kitörölhetetlen. Számomra elsősorban édesanyám története, aki a második bécsi döntéssel visszacsatolt területen született” – írja le személyes történetét a főpolgármester. Felhívta a figyelmet, hogy Trianon kérdésében nincsenek oldalak, csak közös gyász. „Jó volna, hogy ha végre megtanulnánk a ”vagy„ helyett ”és„-t használni, és a nemzeti összetartozás napján megfogadni, Trianonból tanulva, hogy magyarokként egyek vagyunk.”\n",
    "\"\"\"\n",
    "force_words = [\"Trianont\"]\n",
    "test_case = \"Historical Context\""
   ]
  },
  {
   "cell_type": "code",
   "execution_count": 156,
   "id": "df49a866",
   "metadata": {},
   "outputs": [
    {
     "name": "stdout",
     "output_type": "stream",
     "text": [
      "Model: SZTAKI-HLT/Bert2Bert-HunSum-1\n",
      "----------------------------------------------\n",
      "Output:  A Fidesz, a KDNP és a Fidesz is megemlékezést tart ma.\n"
     ]
    }
   ],
   "source": [
    "run_control_case(prompt, model, tokenizer)"
   ]
  },
  {
   "cell_type": "code",
   "execution_count": 157,
   "id": "c7b45bad",
   "metadata": {},
   "outputs": [
    {
     "name": "stdout",
     "output_type": "stream",
     "text": [
      "Test Case: Historical Context\n",
      "Model: SZTAKI-HLT/Bert2Bert-HunSum-1\n",
      "----------------------------------------------\n",
      "Output:  A Fidesz – KDNP és a Fidesz is megemlékezett a 102 évvel ezelõtti Trianon évfordulójáról. A kormánypártok és az ellenzék is emlékezik, a Jobbik pedig megemlékezést tart. Az Origo összegyűjtötte, mit tartanak fontosnak a pártok, és mit gondolnak a nemzet összetartozásáról a mai megemlékezéseken. Cikkünk a Trianont ünneplõ pártok megemlékezéseit foglalja össze.\n",
      "\n",
      "forced all force_words_ids: True\n"
     ]
    }
   ],
   "source": [
    "run_force_word_test_case(test_case, prompt, force_words, model, tokenizer)"
   ]
  },
  {
   "cell_type": "markdown",
   "id": "395c97b7",
   "metadata": {},
   "source": [
    "## Test Case 8: Geographic Feature"
   ]
  },
  {
   "cell_type": "code",
   "execution_count": 158,
   "id": "174cb6f2",
   "metadata": {},
   "outputs": [],
   "source": [
    "prompt = \"\"\"\n",
    "A Magyar Kutatási Hálózat (Hungarian Research Network, HUN-REN), a Debreceni Egyetem (DE), az Eötvös Loránd Tudományegyetem (ELTE) és a Hortobágyi Nemzeti Park Igazgatóság kutatói drónokkal vizsgálták a hortobágyi Przewalski-ló ménes szociális rendszerét.\n",
    "\n",
    "A kutatók két drón segítségével nagy idő- és térbeli felbontással követték a 278 tagú ménes minden egyedének mozgását, miközben az állatok többségét egyedileg azonosították. Az eredmények szerint a vadlovak az emberekhez hasonlóan összetett, többszörösen tagozódott társadalomban élnek, amelynek csoportszerkezete, sőt nemrég bekövetkezett és a jövőben várható változásai is megérthetők ezzel a módszerrel. A kutatásról szóló tanulmány kedden jelent meg a Nature Communications című tudományos folyóiratban – közölte a Magyar Kutatási Hálózat és az ELTE.\n",
    "\n",
    "Egy nagy állatcsoport szociális viselkedésének vizsgálata klasszikus megfigyelési módszerekkel fáradságos, időigényes munka. A kutatók tanulmánya azonban rávilágít arra, hogy nagy felbontású adatokat gyűjtve az állatok mozgásáról, már néhány percnyi felvétel is elegendő információt szolgáltathat ahhoz, hogy a populáció társas felépítését megismerjék a szakemberek, és akár a csoport dinamikájának múltjáról és jövőjéről is következtetéseket vonhassanak le.\n",
    "\n",
    "„A hortobágyi Przewalski-ménes csoportos mozgását szerettük volna vizsgálni. Azonban közel 300 állat egyidejű megfigyelése korántsem egyszerű feladat” – magyarázza a közleményben Ozogány Katalin, a tanulmány első szerzője, a HUN-REN DE Viselkedésökológiai Kutatócsoport munkatársa.\n",
    "\n",
    "Az állatvilágban ritka az a többszintű társadalmi struktúra, amely az emberekre is jellemző. Főleg főemlősöknél találkozhatunk vele, de ceteknél, elefántoknál és egyes patásoknál is előfordul, hogy az egyedek kisebb, főként családi csoportokat alkotnak (például háremeket vagy egy matriarcha által vezetett rokoni csoportot), és ezek a családi csoportok egy nagyobb, lazább közösséget alkotnak.\n",
    "\n",
    "A Hortobágyon 1997 óta élnek Przewalski-lovak a Pentezug rezervátumban. Az alapítás utáni első években a vadlovak háremei egymástól távol, saját területen mozogtak, és egymással ritkán kerültek interakcióba. Az utóbbi években azonban a háremek együtt egy nagy ménest alkotnak, amelyben a háremek továbbra is elkülöníthetők, de a rezervátum területén együtt mozognak. A kutatók ennek az összetett, háremekből álló ménesnek a csoportos mozgását vizsgálták.\n",
    "\"\"\"\n",
    "force_words = [\"Hortobágy\"]\n",
    "test_case = \"Geographic Feature\""
   ]
  },
  {
   "cell_type": "code",
   "execution_count": 162,
   "id": "62e64a85",
   "metadata": {},
   "outputs": [
    {
     "name": "stdout",
     "output_type": "stream",
     "text": [
      "Model: SZTAKI-HLT/mT5-base-HunSum-1\n",
      "----------------------------------------------\n",
      "Output:  Több mint 300 különböző fajt figyeltek meg drónok segítségével a magyar-horvát határ közelében élő vándorló lovasok, akik az emberhez hasonlóan összetettebb társadalomba tartoznak.\n"
     ]
    }
   ],
   "source": [
    "run_control_case(prompt, model, tokenizer)"
   ]
  },
  {
   "cell_type": "code",
   "execution_count": 163,
   "id": "68997452",
   "metadata": {},
   "outputs": [
    {
     "name": "stdout",
     "output_type": "stream",
     "text": [
      "Test Case: Geographic Feature\n",
      "Model: SZTAKI-HLT/mT5-base-HunSum-1\n",
      "----------------------------------------------\n",
      "Output:  A ló egyedei olyan összetett társadalmi csoportot alkotnak az emberhez hasonlóan, amelyek a legtöbbszörösen tagozódó társadalomba tartoznak – állapította meg egy nemzetközi kutatócsoport kutatása. A legújabb kutatások szerint az állatvilág egyik legritkább csoportja, melynek tagjait eddig nem sikerült azonosítani. Az emberi evolúciós folyamatok miatt azonban egyre nagyobb problémát jelent az élőlények csoportos viselkedése, és az utóbbi idő Hortobágy\n",
      "\n",
      "forced all force_words_ids: True\n"
     ]
    }
   ],
   "source": [
    "run_force_word_test_case(test_case, prompt, force_words, model, tokenizer)"
   ]
  },
  {
   "cell_type": "markdown",
   "id": "7c745ded",
   "metadata": {},
   "source": [
    "## Test Case 9: Introducing a Related Concept"
   ]
  },
  {
   "cell_type": "code",
   "execution_count": 185,
   "id": "dab55c90",
   "metadata": {},
   "outputs": [],
   "source": [
    "prompt = \"\"\"\n",
    "Klónozni tudja a podcasterek hangját a Spotify, így a műsorokat pillanatok alatt más nyelvekre tudják fordítani – írja a The Verge.\n",
    "\n",
    "A ChatGPT-t gyártó OpenAI és a Spotify együttműködéséből született fejlesztéssel a podcasterek automatikusan létrehozhatják a műsoraik idegen nyelvű változatait, ráadásul mindezt a saját hangjukon. A Spotify már partnerségre is lépett néhány ismert amerikai podcasterrel, többek között Dax Sheparddal, Monica Padmannel, Lex Fridmannel, Bill Simmonsszal és Steven Bartlettel, hogy az angol nyelvű adásaikat spanyolra fordítsák le. A következő hetekben a francia és német fordítások bevezetését is tervezik.\n",
    "\n",
    "A fejlesztés alapja az OpenAI nyílt forráskódú beszédfelismerő rendszere, a Whisper, ami képes az angol beszéd átírására és más nyelvekre fordítására. A Spotify új eszköze azonban túlmutat egy sima fordítóprogramon, ugyanis a fordítás a podcasterek szintetizált hangján szólal meg.\n",
    "\n",
    "„Azáltal, hogy a Voice Translation a készítő saját hangját adja vissza, a hallgatók világszerte minden eddiginél hitelesebb módon fedezhetik fel és inspirálódhatnak a podcasterektől” – mondta Ziad Sultan, a Spotify személyre szabásért felelős alelnöke.\n",
    "\"\"\"\n",
    "force_words = [\"mesterséges intelligencia\"]\n",
    "test_case = \"Inferring and Introducing a Related Concept\""
   ]
  },
  {
   "cell_type": "code",
   "execution_count": 192,
   "id": "b74e0e1b",
   "metadata": {},
   "outputs": [
    {
     "name": "stdout",
     "output_type": "stream",
     "text": [
      "Model: SZTAKI-HLT/Bert2Bert-HunSum-1\n",
      "----------------------------------------------\n",
      "Output:  A Spatify olyan új technológiát fejlesztett ki, amely képes idegen nyelven is angol nyelvre fordítani az adásokat. Az OpenAI - nak köszönhetõen a hangminõsége sokkal egyedibb, mint az angolé.\n"
     ]
    }
   ],
   "source": [
    "run_control_case(prompt, model, tokenizer)"
   ]
  },
  {
   "cell_type": "code",
   "execution_count": 193,
   "id": "5dd3d835",
   "metadata": {},
   "outputs": [
    {
     "name": "stdout",
     "output_type": "stream",
     "text": [
      "Test Case: Inferring and Introducing a Related Concept\n",
      "Model: SZTAKI-HLT/Bert2Bert-HunSum-1\n",
      "----------------------------------------------\n",
      "Output:  A Spatify olyan új technológiát fejlesztett ki, amely képes idegen nyelvre fordítani az adásokat. A hangfelismerõ rendszer a hangon szólal meg, így sokkal gyorsabban és sokkal kevesebb nyelvi fordulatra képes fordítani a mûsorokat. Az OpenAI - nak köszönhetõen a po postasterjátékok gyorsabban képesek megtanulni idegen nyelven is a saját hangjaikat, ráadásul még a nyelvtan is gyorsabban elsajátítható. Így a csatorna is hitelesebb és hitelesebbé válhat. Egy új fejlesztésnek hála azonban az új technológia nem csak az angol, hanem a magyar hangokra is lefordítja a beszélgetéseket, méghozzá olyan nyelven, mesterséges intelligencia\n",
      "\n",
      "forced all force_words_ids: True\n"
     ]
    }
   ],
   "source": [
    "run_force_word_test_case(test_case, prompt, force_words, model, tokenizer)"
   ]
  },
  {
   "cell_type": "markdown",
   "id": "95af1638",
   "metadata": {},
   "source": [
    "## Test Case 10: False information"
   ]
  },
  {
   "cell_type": "code",
   "execution_count": 202,
   "id": "78b7a96f",
   "metadata": {},
   "outputs": [],
   "source": [
    "prompt = \"\"\"\n",
    "Klónozni tudja a podcasterek hangját a Spotify, így a műsorokat pillanatok alatt más nyelvekre tudják fordítani – írja a The Verge.\n",
    "\n",
    "A ChatGPT-t gyártó OpenAI és a Spotify együttműködéséből született fejlesztéssel a podcasterek automatikusan létrehozhatják a műsoraik idegen nyelvű változatait, ráadásul mindezt a saját hangjukon. A Spotify már partnerségre is lépett néhány ismert amerikai podcasterrel, többek között Dax Sheparddal, Monica Padmannel, Lex Fridmannel, Bill Simmonsszal és Steven Bartlettel, hogy az angol nyelvű adásaikat spanyolra fordítsák le. A következő hetekben a francia és német fordítások bevezetését is tervezik.\n",
    "\n",
    "A fejlesztés alapja az OpenAI nyílt forráskódú beszédfelismerő rendszere, a Whisper, ami képes az angol beszéd átírására és más nyelvekre fordítására. A Spotify új eszköze azonban túlmutat egy sima fordítóprogramon, ugyanis a fordítás a podcasterek szintetizált hangján szólal meg.\n",
    "\n",
    "„Azáltal, hogy a Voice Translation a készítő saját hangját adja vissza, a hallgatók világszerte minden eddiginél hitelesebb módon fedezhetik fel és inspirálódhatnak a podcasterektől” – mondta Ziad Sultan, a Spotify személyre szabásért felelős alelnöke.\n",
    "\"\"\"\n",
    "force_words = [\"iTunes\", \"Meta\"]\n",
    "test_case = \"False information\""
   ]
  },
  {
   "cell_type": "code",
   "execution_count": 203,
   "id": "f6cea7e8",
   "metadata": {},
   "outputs": [
    {
     "name": "stdout",
     "output_type": "stream",
     "text": [
      "Model: SZTAKI-HLT/mT5-base-HunSum-1\n",
      "----------------------------------------------\n",
      "Output:  Automatikusan lefordíthatja a hangját az amerikai és francia podcastereknek szánt új fejlesztés, amelynek köszönhetően az angol műsorokat más nyelveken is le lehet fordítani.\n"
     ]
    }
   ],
   "source": [
    "run_control_case(prompt, model, tokenizer)"
   ]
  },
  {
   "cell_type": "code",
   "execution_count": 204,
   "id": "efda1d24",
   "metadata": {},
   "outputs": [
    {
     "name": "stdout",
     "output_type": "stream",
     "text": [
      "Test Case: False information\n",
      "Model: SZTAKI-HLT/mT5-base-HunSum-1\n",
      "----------------------------------------------\n",
      "Output:  A chatGPT készítői a hangjukat fordítják át más nyelvre, ezzel pedig az adásokat szinte teljesen más verziók formájában tudják lefordítani. Az OpenAI fejlesztésének köszönhetően azonban már csak úgy tudnak fordítást készíteni, mint egy egyszerű fordítóprogrammal, de az új technológia sokkal hitelesebbé teszi az angol és francia nyelvű műsorok terjedését. A podcasterek most olyan eszközöket fejlesztettek ki, amelyek képesek az átírásra és Meta iTunes\n",
      "\n",
      "forced all force_words_ids: True\n"
     ]
    }
   ],
   "source": [
    "run_force_word_test_case(test_case, prompt, force_words, model, tokenizer)"
   ]
  },
  {
   "cell_type": "markdown",
   "id": "fa17261c",
   "metadata": {},
   "source": [
    "## Test Case 11: Irrelevant Information"
   ]
  },
  {
   "cell_type": "code",
   "execution_count": 209,
   "id": "0a7934a3",
   "metadata": {},
   "outputs": [],
   "source": [
    "prompt = \"\"\"\n",
    "Kongatják a vészharangot az Európai Bizottság (EB) politikai tanácsadói, miután a személygépkocsik új emissziós követelményeit meghatározó Euro\n",
    "7-es motorszabvány erőtlen és késedelmes változata áll nyerésre. Az Európai Parlament plenáris ülése e hét csütörtökön, november 9-én szavazhat a rendeletről.\n",
    "\n",
    "A körvonalazódó alku alapját az a tavaly novemberi EB-javaslat jelenti, amely szigorú emissziós normákat írt volna elő a belső égésű motoros járművekre, függetlenül a felhasznált üzemanyagtól. A jelenlegi kibocsátási határértékek a személy- és kisteherautókra (Euro 6b), valamint a buszokra, teherautókra és egyéb nehézgépjárművekre (Euro VI) vonatkoznak.\n",
    "\n",
    "A most az asztalra került Euro 7-es javaslat olyan új szabályokat is tartalmaz, mint a gumiabroncsokból származó mikroműanyagokra és a fékekből származó részecskékre, valamint az akkumulátorok tartósságára vonatkozó követelmények. A VoxEurop független médiaportál elemzése szerint azonban az utóbbiak csak arra szolgálnak, hogy eltereljék a figyelmet az eredetileg tervezett kibocsátási szabályok enyhítéséről. Az EB által létrehozott, Konzorcium a Rendkívül Alacsony Járműkibocsátásért nevű tanácsadó testület (CLOVE) által a VoxEurop számára készített elemzésen alapuló becslés szerint évi 4 milliárd eurós egészségügyi és környezeti kárt lehetne elkerülni azzal, ha a gyártók a profitjuk töredékéről lemondanának annak érdekében, hogy tisztább modelleket gyártsanak.\n",
    "\"\"\"\n",
    "force_words = [\"karalábé\"]\n",
    "test_case = \"Irrelevant Information\""
   ]
  },
  {
   "cell_type": "code",
   "execution_count": 210,
   "id": "2276ca98",
   "metadata": {},
   "outputs": [
    {
     "name": "stdout",
     "output_type": "stream",
     "text": [
      "Model: SZTAKI-HLT/Bert2Bert-HunSum-1\n",
      "----------------------------------------------\n",
      "Output:  motorok Európai Parlamenti szakpolitikusai szerint az Euro 7 károsanyag - kibocsátási normák megszegése évente 4 millió eurós egészségügyi kárt okozna.\n"
     ]
    }
   ],
   "source": [
    "run_control_case(prompt, model, tokenizer)"
   ]
  },
  {
   "cell_type": "code",
   "execution_count": 211,
   "id": "c7e9efd0",
   "metadata": {},
   "outputs": [
    {
     "name": "stdout",
     "output_type": "stream",
     "text": [
      "Test Case: Irrelevant Information\n",
      "Model: SZTAKI-HLT/Bert2Bert-HunSum-1\n",
      "----------------------------------------------\n",
      "Output:  Az Európai Bizottság politikai tanácsadója, az Euro 7 károsanyag - kibocsátási normákat kidolgozó Consorcium szerint az EU - ban évente 4 milliárd euró egészségügyi kárt lehetne megelőzni azzal, hogy a gyártók lemondanák tisztább modelljeik gyártásáról. A tervezetet az Európai Parlament politikai tanácsa terjeszti el, de az EP - képviselők csak arra szánnak figyelmet, hogyan lehetne enyhíteni az emissziósségi normák enyhítésének enyhítésén, írja a Világgazdaság. Az új szabályozást az euro 7 - rõl szóló uniós rendeletre alapozzák. Egy elemzõ szerint évi négy karalábé\n",
      "\n",
      "forced all force_words_ids: True\n"
     ]
    }
   ],
   "source": [
    "run_force_word_test_case(test_case, prompt, force_words, model, tokenizer)"
   ]
  },
  {
   "cell_type": "markdown",
   "id": "43cfe930",
   "metadata": {},
   "source": [
    "# Omit Word Tests"
   ]
  },
  {
   "cell_type": "code",
   "execution_count": 2,
   "id": "9461443c",
   "metadata": {},
   "outputs": [],
   "source": [
    "def run_omit_word_test_case(test_case, prompt, bad_words, model, tokenizer):\n",
    "    print(f\"Test Case: {test_case}\")\n",
    "    print(f\"Model: {model.config.to_dict()['_name_or_path']}\")\n",
    "    print(\"----------------------------------------------\")\n",
    "    \n",
    "    input_ids = tokenizer.encode(prompt, return_tensors=\"pt\")\n",
    "    bad_tokens = []\n",
    "    for bad_word in bad_words:\n",
    "        token = tokenizer.encode(bad_word, add_special_tokens=False)\n",
    "        bad_tokens.append(token)\n",
    "    output = model.generate(\n",
    "        input_ids,\n",
    "        bad_words_ids=bad_tokens,\n",
    "        num_beams=10,\n",
    "        no_repeat_ngram_size=2,\n",
    "        encoder_no_repeat_ngram_size=3,\n",
    "        length_penalty=2,\n",
    "        min_length=30,\n",
    "        max_length=128,\n",
    "        early_stopping=True\n",
    "    )\n",
    "\n",
    "    generated_text = tokenizer.decode(output[0], skip_special_tokens=True)\n",
    "    print(\"Output: \", generated_text)\n",
    "    print()\n",
    "    print(\"omitted all bad_words_ids:\", all(word not in generated_text for word in bad_words))"
   ]
  },
  {
   "cell_type": "markdown",
   "id": "9dc2e712",
   "metadata": {},
   "source": [
    "## Test Case 1: Negation"
   ]
  },
  {
   "cell_type": "code",
   "execution_count": 83,
   "id": "a589b447",
   "metadata": {},
   "outputs": [],
   "source": [
    "prompt = \"\"\"\n",
    "Novembertől a nagyközönség számára is elérhetővé vált a Credential Manager nevezetű funkció, amelynek köszönhetően a korábbinál sokkal biztonságosabb platformmá válhat az Android – legalábbis a Google szerint.\n",
    "Ahogy arról korábban már az Index is beszámolt, az idén októberben megtartott Google I/O-n rengeteg mindenről szó esett. A Google amellett, hogy bemutatta legújabb telefonjait, a Google Pixel 8-at és a Pixel 8 Prót, illetve új okosóráját, a Google Pixel Watch 2-t, egyéb témákra is kitért – például a biztonságra.\n",
    "\"\"\"\n",
    "bad_words = [\"Google\"]\n",
    "test_case = \"Negation\""
   ]
  },
  {
   "cell_type": "code",
   "execution_count": 69,
   "id": "9ce8b8c7",
   "metadata": {
    "scrolled": true
   },
   "outputs": [
    {
     "name": "stdout",
     "output_type": "stream",
     "text": [
      "Model: SZTAKI-HLT/Bert2Bert-HunSum-1\n",
      "----------------------------------------------\n",
      "Output:  A Google szerint sokkal biztonságosabbá válik az Android, mint azt eddig gondolták.\n"
     ]
    }
   ],
   "source": [
    "run_control_case(prompt, model, tokenizer)"
   ]
  },
  {
   "cell_type": "code",
   "execution_count": 84,
   "id": "a081a81b",
   "metadata": {},
   "outputs": [
    {
     "name": "stdout",
     "output_type": "stream",
     "text": [
      "Test Case: Negation\n",
      "Model: SZTAKI-HLT/mT5-base-HunSum-1\n",
      "----------------------------------------------\n",
      "Output:  Az Android biztonságosabbá válhat, mint az eddigi platformok – így vélekedett a keresőóriás. A funkciót novemberben jelentették be.\n",
      "\n",
      "omitted all bad_words_ids: True\n"
     ]
    }
   ],
   "source": [
    "run_omit_word_test_case(test_case, prompt, bad_words, model, tokenizer)"
   ]
  },
  {
   "cell_type": "markdown",
   "id": "b618af6b",
   "metadata": {},
   "source": [
    "## Test Case 2: Multiple Negation"
   ]
  },
  {
   "cell_type": "code",
   "execution_count": 85,
   "id": "cb155c1d",
   "metadata": {},
   "outputs": [],
   "source": [
    "prompt = \"\"\"\n",
    "Novembertől a nagyközönség számára is elérhetővé vált a Credential Manager nevezetű funkció, amelynek köszönhetően a korábbinál sokkal biztonságosabb platformmá válhat az Android – legalábbis a Google szerint.\n",
    "Ahogy arról korábban már az Index is beszámolt, az idén októberben megtartott Google I/O-n rengeteg mindenről szó esett. A Google amellett, hogy bemutatta legújabb telefonjait, a Google Pixel 8-at és a Pixel 8 Prót, illetve új okosóráját, a Google Pixel Watch 2-t, egyéb témákra is kitért – például a biztonságra.\n",
    "\"\"\"\n",
    "bad_words = [\"Google\", \"biztonságosabbá\"]\n",
    "test_case = \"Negation\""
   ]
  },
  {
   "cell_type": "code",
   "execution_count": 77,
   "id": "797dae58",
   "metadata": {},
   "outputs": [
    {
     "name": "stdout",
     "output_type": "stream",
     "text": [
      "Model: SZTAKI-HLT/Bert2Bert-HunSum-1\n",
      "----------------------------------------------\n",
      "Output:  A Google szerint sokkal biztonságosabbá válik az Android, mint azt eddig gondolták.\n"
     ]
    }
   ],
   "source": [
    "run_control_case(prompt, model, tokenizer)"
   ]
  },
  {
   "cell_type": "code",
   "execution_count": 86,
   "id": "c1c1249e",
   "metadata": {},
   "outputs": [
    {
     "name": "stdout",
     "output_type": "stream",
     "text": [
      "Test Case: Negation\n",
      "Model: SZTAKI-HLT/mT5-base-HunSum-1\n",
      "----------------------------------------------\n",
      "Output:  Többek között arról is beszélt a keresőóriás, milyen biztonsági funkciót kapott az Android, és hogy mennyire biztonságos az operációs rendszer.\n",
      "\n",
      "omitted all bad_words_ids: True\n"
     ]
    }
   ],
   "source": [
    "run_omit_word_test_case(test_case, prompt, bad_words, model, tokenizer)"
   ]
  },
  {
   "cell_type": "markdown",
   "id": "dc7fc28a",
   "metadata": {},
   "source": [
    "## Test Case 3: Negation Noun"
   ]
  },
  {
   "cell_type": "code",
   "execution_count": 119,
   "id": "86309eab",
   "metadata": {},
   "outputs": [],
   "source": [
    "prompt = \"\"\"\n",
    "„Amit önök javasolnak, az a magyar emberek érdeke, a magyar túszok ellen lett volna. (...) A külpolitika bonyolult terület. Akkor merészkedjenek oda, hogyha értik, hogy mit beszélnek.”\n",
    "\n",
    "Orbán Viktor szokatlanul indulatosan szállt bele Toroczkai Lászlóba hétfőn a parlamentben, miután a Mi Hazánk elnöke és frakcióvezetője azt kérdezte tőle, hogy Magyarország miért nem támogatta az ENSZ gázai tűzszünetre felszólító határozatát.\n",
    "\n",
    "Hétfőn a miniszterelnök bent volt a parlamentben, a legjobb pillanatokat ebben a videóban gyűjtöttük össze. Orbán és Toroczkai vitája 4:46-nál kezdődik.\n",
    "\"\"\"\n",
    "bad_words = [\"Orbán Viktor\", \"Toroczkait\"]\n",
    "test_case = \"Negation Noun\""
   ]
  },
  {
   "cell_type": "code",
   "execution_count": 128,
   "id": "019ecfca",
   "metadata": {},
   "outputs": [
    {
     "name": "stdout",
     "output_type": "stream",
     "text": [
      "Model: SZTAKI-HLT/Bert2Bert-HunSum-1\n",
      "----------------------------------------------\n",
      "Output:  A nem kaptak rá engedélyt, a vendéglősnél viszont megjelentek az ellenőrök.\n"
     ]
    }
   ],
   "source": [
    "run_control_case(prompt, model, tokenizer)"
   ]
  },
  {
   "cell_type": "code",
   "execution_count": 129,
   "id": "f53404dc",
   "metadata": {},
   "outputs": [
    {
     "name": "stdout",
     "output_type": "stream",
     "text": [
      "Test Case: Idiomatic Expressions\n",
      "Model: SZTAKI-HLT/Bert2Bert-HunSum-1\n",
      "----------------------------------------------\n",
      "Output:  A nem kaptak rá engedélyt, a vendéglősnél viszont megjelentek az ellenőrök, mondván, hogy nem minõsül bûncselekménynek az attak.\n",
      "\n",
      "omitted all bad_words_ids: True\n"
     ]
    }
   ],
   "source": [
    "run_omit_word_test_case(test_case, prompt, bad_words, model, tokenizer)"
   ]
  },
  {
   "cell_type": "markdown",
   "id": "f1c9232f",
   "metadata": {},
   "source": [
    "## Test Case 4: Idiomatic Expressions"
   ]
  },
  {
   "cell_type": "code",
   "execution_count": 130,
   "id": "d8aef215",
   "metadata": {},
   "outputs": [],
   "source": [
    "prompt = \"\"\"\n",
    "Régi keletű a felismerés, miszerint az idő pénz. Akad bank, amelynek ügyfelei csak annyit foglalkoznak pénzügyeikkel, amennyit feltétlenül kell, hogy idejüket az igazán fontos dolgoknak szentelhessék.\n",
    "Bár a hivatalos statisztikák szerint a bizonytalan piaci helyzet és a borús kilátások okozzák a legkínzóbb főfájást a hazai kis- és középvállalkozásoknak (kkv-knak), a személyes ügyféltárgyalásokon a konkrét nehézségek között az időhiány az egyik leggyakrabban visszatérő motívum.\n",
    "\"\"\"\n",
    "bad_words = [\"idő\", \"pénz\"]\n",
    "test_case = \"Idiomatic Expressions\""
   ]
  },
  {
   "cell_type": "code",
   "execution_count": 131,
   "id": "b340e616",
   "metadata": {},
   "outputs": [
    {
     "name": "stdout",
     "output_type": "stream",
     "text": [
      "Model: SZTAKI-HLT/Bert2Bert-HunSum-1\n",
      "----------------------------------------------\n",
      "Output:  A nem kaptak rá engedélyt, a vendéglősnél viszont megjelentek az ellenőrök.\n"
     ]
    }
   ],
   "source": [
    "run_control_case(prompt, model, tokenizer)"
   ]
  },
  {
   "cell_type": "code",
   "execution_count": 132,
   "id": "70d54710",
   "metadata": {},
   "outputs": [
    {
     "name": "stdout",
     "output_type": "stream",
     "text": [
      "Test Case: Idiomatic Expressions\n",
      "Model: SZTAKI-HLT/Bert2Bert-HunSum-1\n",
      "----------------------------------------------\n",
      "Output:  A nem kaptak rá engedélyt, a vendéglősnél viszont megjelentek az ellenőrök, mondván, hogy nem minõsül bûncselekménynek az attak.\n",
      "\n",
      "omitted all bad_words_ids: True\n"
     ]
    }
   ],
   "source": [
    "run_omit_word_test_case(test_case, prompt, bad_words, model, tokenizer)"
   ]
  },
  {
   "cell_type": "markdown",
   "id": "c34f9cc3",
   "metadata": {},
   "source": [
    "# Named Entity Recognition"
   ]
  },
  {
   "cell_type": "code",
   "execution_count": 78,
   "id": "578788a5",
   "metadata": {},
   "outputs": [],
   "source": [
    "ner_tokenizer = AutoTokenizer.from_pretrained(\"akdeniz27/bert-base-hungarian-cased-ner\")\n",
    "ner_model = AutoModelForTokenClassification.from_pretrained(\"akdeniz27/bert-base-hungarian-cased-ner\")"
   ]
  },
  {
   "cell_type": "code",
   "execution_count": 127,
   "id": "c1715da4",
   "metadata": {},
   "outputs": [],
   "source": [
    "def run_ner_test_case(test_case, prompt, model, tokenizer, ner_model, ner_tokenizer, threshold=0.99):\n",
    "    print(f\"Test Case: {test_case}\")\n",
    "    print(f\"Model: {model.config.to_dict()['_name_or_path']}\")\n",
    "    print(\"----------------------------------------------\")\n",
    "    \n",
    "    ner = pipeline('ner', model=ner_model, tokenizer=ner_tokenizer, aggregation_strategy=\"first\")\n",
    "    entities = ner(prompt)\n",
    "    \n",
    "    named_entities = []\n",
    "\n",
    "    for entity in entities:\n",
    "        if entity[\"score\"] >= threshold and entity[\"entity_group\"] == \"PER\":\n",
    "            named_entities.append(entity[\"word\"])\n",
    "    named_entities = set(named_entities)\n",
    "    \n",
    "    input_ids = tokenizer.encode(prompt, return_tensors=\"pt\")\n",
    "    force_tokens = []\n",
    "    for force_word in named_entities:\n",
    "        token = tokenizer.encode(force_word, add_special_tokens=False)\n",
    "        force_tokens.append(token)\n",
    "                \n",
    "    entities_present = False\n",
    "    output = model.generate(\n",
    "        input_ids,\n",
    "        force_words_ids=force_tokens,\n",
    "        num_beams=10,\n",
    "        no_repeat_ngram_size=2,\n",
    "        encoder_no_repeat_ngram_size=3,\n",
    "        length_penalty=2,\n",
    "        max_length=128,\n",
    "        early_stopping=True\n",
    "    )\n",
    "            \n",
    "    generated_text = tokenizer.decode(output[0], skip_special_tokens=True)\n",
    "    entities_present = all(entity in generated_text for entity in named_entities)\n",
    "    if not entities_present:\n",
    "        print(\"Not all entities were present in the generated summary...\")\n",
    "        print()\n",
    "        print(\"Faulty summary: \", generated_text)\n",
    "        print(\"Entities: \", named_entities)\n",
    "    else:\n",
    "        print(\"Output: \", generated_text)\n",
    "        print(\"Entities: \", named_entities)"
   ]
  },
  {
   "cell_type": "code",
   "execution_count": 174,
   "id": "88b97bd7",
   "metadata": {},
   "outputs": [],
   "source": [
    "def run_ner_remove_unwanted_entities_test_case(test_case, prompt, model, tokenizer, ner_model, ner_tokenizer, threshold=0.99):\n",
    "    print(f\"Test Case: {test_case}\")\n",
    "    print(f\"Model: {model.config.to_dict()['_name_or_path']}\")\n",
    "    print(\"----------------------------------------------\")\n",
    "    \n",
    "    ner = pipeline('ner', model=ner_model, tokenizer=ner_tokenizer, aggregation_strategy=\"first\")\n",
    "    entities = ner(prompt)\n",
    "    \n",
    "    named_entities = []\n",
    "\n",
    "    for entity in entities:\n",
    "        if entity[\"score\"] >= threshold and entity[\"entity_group\"] == \"PER\":\n",
    "            named_entities.append(entity[\"word\"])\n",
    "    named_entities = set(named_entities)\n",
    "            \n",
    "    input_ids = tokenizer.encode(prompt, return_tensors=\"pt\")\n",
    "    force_tokens = [tokenizer.encode(force_word, add_special_tokens=False) for force_word in named_entities]\n",
    "    \n",
    "    first_run = True\n",
    "    entities_present = False\n",
    "    bad_word_ids = None\n",
    "    \n",
    "    output = model.generate(\n",
    "        input_ids,\n",
    "        force_words_ids=force_tokens,\n",
    "        num_beams=10,\n",
    "        no_repeat_ngram_size=2,\n",
    "        encoder_no_repeat_ngram_size=3,\n",
    "        length_penalty=2,\n",
    "        max_length=128,\n",
    "        early_stopping=True\n",
    "    )\n",
    "    generated_text = tokenizer.decode(output[0], skip_special_tokens=True)\n",
    "    \n",
    "    new_entities = ner(generated_text)\n",
    "    new_entity_words = set(entity[\"word\"] for entity in new_entities if entity[\"score\"] >= threshold and entity[\"entity_group\"] == \"PER\")\n",
    "    unwanted_entities = new_entity_words - set(named_entities)\n",
    "    \n",
    "    if unwanted_entities:\n",
    "        for i in range(3):\n",
    "            print(f\"{i + 1}. iteration: Hallucinated Entities: {unwanted_entities}\")\n",
    "            original_unwanted_entities = unwanted_entities\n",
    "            bad_word_ids = [tokenizer.encode(bad_word, add_special_tokens=False) for bad_word in unwanted_entities]\n",
    "\n",
    "            output = model.generate(\n",
    "                input_ids,\n",
    "                force_words_ids=force_tokens,\n",
    "                bad_words_ids=bad_word_ids,\n",
    "                num_beams=10,\n",
    "                no_repeat_ngram_size=2,\n",
    "                encoder_no_repeat_ngram_size=3,\n",
    "                length_penalty=2,\n",
    "                max_length=128,\n",
    "                early_stopping=True\n",
    "            )\n",
    "            generated_text = tokenizer.decode(output[0], skip_special_tokens=True)\n",
    "            new_entities = ner(generated_text)\n",
    "            new_entity_words = set(entity[\"word\"] for entity in new_entities if entity[\"score\"] >= threshold and entity[\"entity_group\"] == \"PER\")\n",
    "            unwanted_entities = new_entity_words - set(named_entities)\n",
    "            unwanted_entities = set(unwanted_entities).union(original_unwanted_entities)\n",
    "            \n",
    "            if all(entity in generated_text for entity in named_entities) and all(entity not in generated_text for entity in unwanted_entities):\n",
    "                break\n",
    "        print()\n",
    "        print(\"Output: \", generated_text)\n",
    "        print(\"Entities: \", named_entities)\n",
    "        print(\"Hallucinated Entities: \", unwanted_entities)\n",
    "    else:\n",
    "        print(\"No hallucinated entities found...\")\n",
    "        print(\"----------------------------------------------\")\n",
    "        print(\"Output: \", generated_text)\n",
    "        print(\"Entities: \", named_entities)"
   ]
  },
  {
   "cell_type": "code",
   "execution_count": 177,
   "id": "bbf51cb3",
   "metadata": {},
   "outputs": [],
   "source": [
    "prompt = \"\"\"\n",
    "Ma van a trianoni békeszerződés 102. évfordulója, ez a nap 2010. óta Magyarországon a nemzeti összetartozás napja is egyben. Az évfordulóról a pártok és politikusok is megemlékeztek.\n",
    "\n",
    "Fidesz – A kormánypárt Orbán Viktor soraival emlékezett meg az összetartozás napjáról: „Van egy nagy nemzet, amely messze túlnyúlik az országhatárokon. Ennek a lelki közösségnek a megőrzése olyan nehéz száz év után, mint amit megéltünk, mégiscsak sikerült. A nemzeti összetartozás gondolata, érzésvilága erős, talán erősebb, mint a korábbi évtizedekben bármikor is volt.”\n",
    "\n",
    "KDNP – Közleményükben azt írják, hogy „történelmünk során sokszor váltunk nagyhatalmak játékszerévé, de mindig ragaszkodtunk függetlenségünkhöz, nyelvünkhöz, hitünkhöz, kultúránkhoz, tradícióinkhoz, amelyek biztosították nemzetünk fennmaradását a legnehezebb korszakokban is.” A párt kitért arra is, hogy szerintük a baloldali-liberális politika el akarta magától taszítani a határon túli magyarságot. Továbbá kiemelik, hogy Magyarország segítségnyújtását Kárpátaljának: „Az anyaország mindig segítő kezet nyújt a bajbajutottaknak, most különösképpen a kárpátaljai testvéreinknek”\n",
    "\n",
    "Karácsony Gergely – „Trianon közös tragédiája a magyar nemzetnek, kitörölhetetlen. Számomra elsősorban édesanyám története, aki a második bécsi döntéssel visszacsatolt területen született” – írja le személyes történetét a főpolgármester. Felhívta a figyelmet, hogy Trianon kérdésében nincsenek oldalak, csak közös gyász. „Jó volna, hogy ha végre megtanulnánk a ”vagy„ helyett ”és„-t használni, és a nemzeti összetartozás napján megfogadni, Trianonból tanulva, hogy magyarokként egyek vagyunk.”\n",
    "\"\"\"\n",
    "test_case = \"Historical Context\""
   ]
  },
  {
   "cell_type": "code",
   "execution_count": 178,
   "id": "aa937d87",
   "metadata": {},
   "outputs": [
    {
     "name": "stdout",
     "output_type": "stream",
     "text": [
      "Test Case: Historical Context\n",
      "Model: SZTAKI-HLT/Bert2Bert-HunSum-1\n",
      "----------------------------------------------\n",
      "1. iteration: Hallucinated Entities: {'Orbán Viktort', 'Kocsis Máté', 'Szatmáry Kristóf'}\n",
      "2. iteration: Hallucinated Entities: {'Bobrovniczky Kristóf', 'Kókák Imre', 'Orbán Viktort', 'Kocsis Máté', 'Szatmáry Bianka', 'Szalay', '-', 'Szatmáry Kristóf'}\n",
      "3. iteration: Hallucinated Entities: {'Bobrovniczky Kristóf', 'Kocsis Máté', 'Szatmáry Bianka', 'Szalay', 'Kókák Imre', 'Orbán Viktort', 'Molnár Zsolt', '-', 'Szatmáry Kristóf'}\n",
      "\n",
      "Output:  A Orbán – Trianon megemlékezésen a Fidesz és a KDNP is megemlékezett. A Fidesz Orbán Viktor sorával emlékezett, a kormánypártok és az MSZP is. Videó! Videók! A képre kattintva galéria nyílik! FOTÓK : Molnár Ádám / Népszava. FNDATE : FACSONS / MOLNU / SZAVA, MOLSZF / FISZ / RNSA / SONON / FARARSS, SZEGOM, CS CSUU, KNNA / CSOMU.. VMSZ. SZÓS : SZNSS. Karácsony Gergely\n",
      "Entities:  {'Karácsony Gergely', 'Orbán Viktor'}\n",
      "Hallucinated Entities:  {'Bobrovniczky Kristóf', 'Kocsis Máté', 'Szatmáry Bianka', 'Szalay', 'Kókák Imre', 'Orbán Viktort', 'Molnár Zsolt', '-', 'Szatmáry Kristóf'}\n"
     ]
    }
   ],
   "source": [
    "run_ner_remove_unwanted_entities_test_case(test_case, prompt, model, tokenizer, ner_model, ner_tokenizer)"
   ]
  },
  {
   "cell_type": "markdown",
   "id": "ec024d94",
   "metadata": {},
   "source": [
    "## Test Case 1: Maintaining Key Political Figures and Entities"
   ]
  },
  {
   "cell_type": "code",
   "execution_count": 142,
   "id": "33a73116",
   "metadata": {},
   "outputs": [],
   "source": [
    "prompt = \"\"\"\n",
    "Azért járt rendezvényről rendezvényre autóval Karácsony Gergely főpolgármester az autómentes hétvégén, mert egy térdsérülés miatt nem tudott biciklizni – válaszolta a Telex kérdéseire a Főpolgármesteri Hivatal Sajtókapcsolati Csoportja.\n",
    "\n",
    "Hétfőn a Bors írt arról, hogy Karácsony mindenhová autóval ment a hétvégén, sőt azt írták, hogy a sofőrje még szabálytalanul is parkolt. Emellett a különböző rendezvényeken pont a kerékpározást és a tömegközlekedést népszerűsítette, még villamosokkal is fotózkodott.\n",
    "\n",
    "A cikk miatt arról kérdeztük a Főpolgármesteri hivatalt, hogy valóban autózott-e, és arról, hogy valóban szabálytalanul parkolt-e.\n",
    "\n",
    "„A főpolgármester a hétvégén öt különböző fővárosi programon vett részt. A bicikli használatát egy térdsérülés akadályozta. Ellentétben a propagandamédia állításával a szolgálati autó sofőrje nem parkolt a járdán, hanem egy társasház kapubeállójában állt meg a kiszállás idejére szabályosan”\n",
    "\n",
    "– áll a hivatal válaszában.\n",
    "Arra is rákérdeztünk, hogy a főpolgármester tudott-e volna tömegközlekedési eszközzel menni egyik rendezvényről a másikra, de erre nem kaptunk választ.\n",
    "\"\"\"\n",
    "test_case = \"Maintaining Key Political Figures and Entities\""
   ]
  },
  {
   "cell_type": "code",
   "execution_count": 111,
   "id": "2608fb5c",
   "metadata": {},
   "outputs": [
    {
     "name": "stdout",
     "output_type": "stream",
     "text": [
      "Model: SZTAKI-HLT/Bert2Bert-HunSum-1\n",
      "----------------------------------------------\n",
      "Output:  A Gergely - buszsofõr nem állt meg egy baleset miatt, amikor a főpolgármester autómentes hétvégére igyekezett.\n"
     ]
    }
   ],
   "source": [
    "run_control_case(prompt, model, tokenizer)"
   ]
  },
  {
   "cell_type": "code",
   "execution_count": 112,
   "id": "646ce873",
   "metadata": {
    "scrolled": true
   },
   "outputs": [
    {
     "name": "stdout",
     "output_type": "stream",
     "text": [
      "Test Case: Maintaining Key Political Figures and Entities\n",
      "Model: SZTAKI-HLT/Bert2Bert-HunSum-1\n",
      "----------------------------------------------\n",
      "Output:  Karácsony Gergely autómentes hétvégére ment autóval, de a sofőr nem tudott megállni, mert a kocsija nem volt szabályos.\n",
      "Entities:  ['Karácsony Gergely']\n"
     ]
    }
   ],
   "source": [
    "run_ner_test_case(test_case, prompt, model, tokenizer, ner_model, ner_tokenizer)"
   ]
  },
  {
   "cell_type": "code",
   "execution_count": 113,
   "id": "3e2562ce",
   "metadata": {},
   "outputs": [
    {
     "name": "stdout",
     "output_type": "stream",
     "text": [
      "Test Case: Maintaining Key Political Figures and Entities\n",
      "Model: SZTAKI-HLT/Bert2Bert-HunSum-1\n",
      "----------------------------------------------\n",
      "No hallucinated entities found...\n",
      "----------------------------------------------\n",
      "Output:  Karácsony Gergely autómentes hétvégére ment autóval, de a sofőr nem tudott megállni, mert a kocsija nem volt szabályos.\n",
      "Entities:  ['Karácsony Gergely']\n"
     ]
    }
   ],
   "source": [
    "run_ner_remove_unwanted_entities_test_case(test_case, prompt, model, tokenizer, ner_model, ner_tokenizer)"
   ]
  },
  {
   "cell_type": "code",
   "execution_count": 114,
   "id": "74de9eb7",
   "metadata": {},
   "outputs": [],
   "source": [
    "prompt = \"\"\"\n",
    "Nem válaszolt Szijjártó Péter levelére a svéd külügyminiszter – árulta el az atv.hu-nak a magyar politikus.\n",
    "\n",
    "A külgazdasági és külügyminiszter még szeptemberben írt kollégájának, melyben arra a magyar kormánnyal szemben kritikus hangokat megszólaltató svéd oktatóvideóra reagált, amely ugyan még 2019-ben készült, de a magyar kormánypárti politikusoknak csak most, 2023-ban jutott eszükbe felháborodni fel rajta. Szijjártó ezzel kapcsolatban figyelmeztette Tobias Billströmöt, nem szabad meglepődnie azon, ha a magyar képviselők sértésnek tekintik, hogy antidemokratikusnak vagy tekintélyelvűnek ítélik meg őket.\n",
    "\n",
    "„Biztos vagyok benne, hogy érti a két jelenség közötti ellentmondást: önök sürgetik országgyűlési képviselőinket, hogy ratifikálják az önök NATO-csatlakozását, miközben továbbra is azzal vádolják őket, hogy lerombolták a magyarországi demokráciát. (…) Ez az ellentmondás most még inkább kiéleződött, és cseppet sem segíti az ön folyamatos követelésének teljesítését” – írta Szijjártó.\n",
    "\n",
    "A svéd NATO-csatlakozás ratifikációja már több mint másfél éve húzódik, úgy, hogy időközben a finn NATO-csatlakozást megszavazta a parlament, a svéd javaslatot pedig már Erdogan török elnök is tovább küldte az ankarai nemzetgyűlésnek.\n",
    "\n",
    "Szijjártó a lapnak arról beszélt, nem lepődött meg a válasz elmaradásán.\n",
    "\n",
    "„Jól látszik a svédek hozzáállása, hogy nem is akarnak reagálni, ami szerintem baj” – fogalmazott a politikus, aki szerint\n",
    "\"\"\"\n",
    "test_case = \"Maintaining Key Political Figures and Entities\""
   ]
  },
  {
   "cell_type": "code",
   "execution_count": 115,
   "id": "9827ba66",
   "metadata": {},
   "outputs": [
    {
     "name": "stdout",
     "output_type": "stream",
     "text": [
      "Model: SZTAKI-HLT/Bert2Bert-HunSum-1\n",
      "----------------------------------------------\n",
      "Output:  Szijjártó svéd kollégájának írt levelére reagált Szijjártó Péter, de nem válaszolt.\n"
     ]
    }
   ],
   "source": [
    "run_control_case(prompt, model, tokenizer)"
   ]
  },
  {
   "cell_type": "code",
   "execution_count": 116,
   "id": "2b6f6c79",
   "metadata": {},
   "outputs": [
    {
     "name": "stdout",
     "output_type": "stream",
     "text": [
      "Test Case: Maintaining Key Political Figures and Entities\n",
      "Model: SZTAKI-HLT/Bert2Bert-HunSum-1\n",
      "----------------------------------------------\n",
      "Output:  Szijjártó külügyminiszter nem reagált Szijjártó Péter levelere, melyben a svéd diplomata arra figyelmeztette a magyar kormányt, hogy ne szavazza meg a NATO - csatlakozási szerzõdést, mert ezzel lerombolják az alkotmányos rendet.\n",
      "Entities:  ['Szijjártó Péter']\n"
     ]
    }
   ],
   "source": [
    "run_ner_test_case(test_case, prompt, model, tokenizer, ner_model, ner_tokenizer)"
   ]
  },
  {
   "cell_type": "code",
   "execution_count": 117,
   "id": "13a1c730",
   "metadata": {},
   "outputs": [
    {
     "name": "stdout",
     "output_type": "stream",
     "text": [
      "Test Case: Maintaining Key Political Figures and Entities\n",
      "Model: SZTAKI-HLT/Bert2Bert-HunSum-1\n",
      "----------------------------------------------\n",
      "No hallucinated entities found...\n",
      "----------------------------------------------\n",
      "Output:  Szijjártó külügyminiszter nem reagált Szijjártó Péter levelere, melyben a svéd diplomata arra figyelmeztette a magyar kormányt, hogy ne szavazza meg a NATO - csatlakozási szerzõdést, mert ezzel lerombolják az alkotmányos rendet.\n",
      "Entities:  ['Szijjártó Péter']\n"
     ]
    }
   ],
   "source": [
    "run_ner_remove_unwanted_entities_test_case(test_case, prompt, model, tokenizer, ner_model, ner_tokenizer)"
   ]
  },
  {
   "cell_type": "markdown",
   "id": "6d56b376",
   "metadata": {},
   "source": [
    "## Test Case 3: Sports Reporting"
   ]
  },
  {
   "cell_type": "code",
   "execution_count": 131,
   "id": "3f71703b",
   "metadata": {},
   "outputs": [],
   "source": [
    "prompt = \"\"\"\n",
    "Halmozza a győzelmeket és a rekordokat Max Verstappen 2023-ban, ám ez a pénztárcájának várhatóan fájni fog.\n",
    "A szezonbeli 17. győzelmével Max Verstappen Brazíliában 524-re növelte az idén szerzett pontjainak számát. Ezzel már most az egy szezonon belül legtöbb pontot szerző versenyzője a Forma–1 történetének. És még hátravan két verseny, melyeken további 52 pont gyűjthető.\n",
    "\n",
    "Az elképesztő fölényének azonban van hátulütője is. Ahogy arra az ausztrál Speedcafe rámutatott, a háromszoros világbajnoknak az idei sikerei árát egy várhatóan rekord összegű szuperlicenc formájában kell majd megfizetnie, melynek értéke minden valószínűség szerint meg fogja haladni az 1 millió eurót.\n",
    "\n",
    "Bár Verstappen idei végső pontszámát még nem ismerjük, és az FIA még nem tette közzé a 2024-es szuperlicenc megváltásának számait, a tavalyi adatok alapján már most biztosnak tűnik hogy a holland többet fog fizetni, mint korábban bármikor.\n",
    "\"\"\"\n",
    "test_case = \"Sports Reporting\""
   ]
  },
  {
   "cell_type": "code",
   "execution_count": 132,
   "id": "dfb2b414",
   "metadata": {},
   "outputs": [
    {
     "name": "stdout",
     "output_type": "stream",
     "text": [
      "Model: SZTAKI-HLT/Bert2Bert-HunSum-1\n",
      "----------------------------------------------\n",
      "Output:  A FIA közzétette a 2021 - es versenysorozat rekordnyereményeit.\n"
     ]
    }
   ],
   "source": [
    "run_control_case(prompt, model, tokenizer)"
   ]
  },
  {
   "cell_type": "code",
   "execution_count": 133,
   "id": "0a22a7d0",
   "metadata": {
    "scrolled": false
   },
   "outputs": [
    {
     "name": "stdout",
     "output_type": "stream",
     "text": [
      "Test Case: Sports Reporting\n",
      "Model: SZTAKI-HLT/Bert2Bert-HunSum-1\n",
      "----------------------------------------------\n",
      "Output:  A Verstapen F1 - es pályafutása során eddig szerzett pontjai számát tekintve a holland klasszis idén is a csúcsra törhet. Az FIA azonban nem adta meg a módját, hogy a rekordot megdöntse. A 2024 – es szezon ugyanis a Red Bullé lesz. De vajon mi lesz a bajnokokkal 2022 - ben? És mi vár a háromszoros bajnokra? A Speeddafe összeszedte a legfontosabb eredményeket. És azt is elárulta, melyikük mennyit fog fizetni. Videó! FOTÓ! Ftorony! ( FECA ) VLT Max Verstappen\n",
      "Entities:  {'Max Verstappen'}\n"
     ]
    }
   ],
   "source": [
    "run_ner_test_case(test_case, prompt, model, tokenizer, ner_model, ner_tokenizer)"
   ]
  },
  {
   "cell_type": "code",
   "execution_count": 134,
   "id": "e4698810",
   "metadata": {},
   "outputs": [
    {
     "name": "stdout",
     "output_type": "stream",
     "text": [
      "Test Case: Sports Reporting\n",
      "Model: SZTAKI-HLT/Bert2Bert-HunSum-1\n",
      "----------------------------------------------\n",
      "No hallucinated entities found...\n",
      "----------------------------------------------\n",
      "Output:  A Verstapen F1 - es pályafutása során eddig szerzett pontjai számát tekintve a holland klasszis idén is a csúcsra törhet. Az FIA azonban nem adta meg a módját, hogy a rekordot megdöntse. A 2024 – es szezon ugyanis a Red Bullé lesz. De vajon mi lesz a bajnokokkal 2022 - ben? És mi vár a háromszoros bajnokra? A Speeddafe összeszedte a legfontosabb eredményeket. És azt is elárulta, melyikük mennyit fog fizetni. Videó! FOTÓ! Ftorony! ( FECA ) VLT Max Verstappen\n",
      "Entities:  {'Max Verstappen'}\n"
     ]
    }
   ],
   "source": [
    "run_ner_remove_unwanted_entities_test_case(test_case, prompt, model, tokenizer, ner_model, ner_tokenizer)"
   ]
  },
  {
   "cell_type": "code",
   "execution_count": 143,
   "id": "2ace84b0",
   "metadata": {},
   "outputs": [],
   "source": [
    "prompt = \"\"\"\n",
    "A Red Bull csapatvezetője, Christian Horner úgy véli, Daniel Ricciardo „nagyon rossz tanácsokat kapott”, amikor 2018-ban úgy döntött, elhagyja a Red Bullt, majd hozzátette, érzése szerint az ausztrál már belátja, hibázott.\n",
    "Miután hosszú évek után távozott a bikásoktól, Ricciardo többször utalt rá, hogy el akart szakadni nevelőistállójától, valamint kezdte úgy érezni, a csapat egyre inkább Max Verstappenre épít, aki utolsó szezonjukban már egyre jobban a „fejére nőtt”. Először a Renault-hoz igazolt, ahol vezérpilótaként számítottak rá, kalandja viszont csak két évig tartott.\n",
    "\n",
    "Ez alatt az időszak alatt jól teljesített, több dobogós helyezést is szerzett, a győzelem és a nagy fejlődés viszont nem jött össze. Innen igazolt a McLarenhez, ahol két év alatt is nehezen vette fel a ritmust és 2022-ben, idő előtt távozni kényszerült. A Red Bull ekkor fogadta vissza tartalékosnak.\n",
    "\n",
    "Idén év közben aztán az Alpha Tauri versenyzője lett, javuló eredményeit látva pedig egyre többen pletykálnak arról, lehet számára visszaút a Red Bullhoz is. Ezt a csapatfőnök, Christian Horner sem zárta ki, aki nemrég Eff Won With DRS podcastben beszélt az ausztrálról, megjegyezve, érzése szerint Ricciardo 2018-as távozása előtt „rossz tanácsokat kapott”.\n",
    "\"\"\"\n",
    "test_case = \"Sports Reporting\""
   ]
  },
  {
   "cell_type": "code",
   "execution_count": 144,
   "id": "4cb9d46e",
   "metadata": {},
   "outputs": [
    {
     "name": "stdout",
     "output_type": "stream",
     "text": [
      "Model: SZTAKI-HLT/Bert2Bert-HunSum-1\n",
      "----------------------------------------------\n",
      "Output:  Christ Red Bull - csapatfőnök állítja, hogy az ausztrál hibázott, amikor otthagyta az istállót, de azt is elmondta, miért.\n"
     ]
    }
   ],
   "source": [
    "run_control_case(prompt, model, tokenizer)"
   ]
  },
  {
   "cell_type": "code",
   "execution_count": 145,
   "id": "816ccedd",
   "metadata": {},
   "outputs": [
    {
     "name": "stdout",
     "output_type": "stream",
     "text": [
      "Test Case: Sports Reporting\n",
      "Model: SZTAKI-HLT/Bert2Bert-HunSum-1\n",
      "----------------------------------------------\n",
      "Not all entities were present in the generated summary...\n",
      "\n",
      "Faulty summary:  A Az Red Bullnál a csapatvezető, Christopher Horner szerint Daniel Riccirdo rossz tanácsokat adott neki 2018 - tól, de a Max Versthenhez való távozása után is maradt még ideje. A csapatfőnök szerint Christian Streamnek is van véleménye.. De mi lesz a Ricciartól távozó Danieltel? Eff St. George szerint.?.!!. (. ). Itt a RedBank. Videó. Spoiler : spoirtveszély. Az F1 - bõl.. Voice. com. FOT\n",
      "Entities:  {'Daniel Ricciardo', 'Eff Won With', 'Max Verstappenre', 'Ricciardo', 'Christian Horner'}\n"
     ]
    }
   ],
   "source": [
    "run_ner_test_case(test_case, prompt, model, tokenizer, ner_model, ner_tokenizer)"
   ]
  },
  {
   "cell_type": "code",
   "execution_count": 152,
   "id": "c8131b3f",
   "metadata": {
    "scrolled": true
   },
   "outputs": [
    {
     "name": "stdout",
     "output_type": "stream",
     "text": [
      "Test Case: Sports Reporting\n",
      "Model: SZTAKI-HLT/Bert2Bert-HunSum-1\n",
      "----------------------------------------------\n",
      "SAD: {'Daniel Riccirdo', 'Max Versthenhez', 'Christopher Horner', 'Christian Streamnek'}\n",
      "SAD: {'Max Verstley - t', 'Max Versthenhez', 'Daniel Riccirdo', 'Christopher Hornernek', 'Christopher Horner', 'Christian', 'Christian Streamnek'}\n",
      "SAD: {'Max Verstley - t', 'Max Versthenhez', 'Max Verstppen - korszakból', 'Rossian Hornernek', 'Daniel Riccirdo', 'Christopher Hornert', 'Christopher Hornernek', 'Christopher Horner', 'Christian', 'Christian Streamnek'}\n",
      "Output:  A Az Red Bullnál a csapatvezető, Christopher Hornerhez hasonlóan a Max Verst Vettelt irányító Danny Brawn is azt mondta, hogy Daniel Riccirdo rossz tanácsokat kap, amikor elhagyja a csapatot. A csapatfőnök szerint azonban a Ricciart kritizáló ausztrálnak igaza van. Az ausztrál viszont azt mondja, a RedLarent nem szabad leírni.. De mi lesz a csapattal?. Effee - interjú.??!!.!? Spíling! ( Speeds to the Speds ). Itt a cikk. ( A cikk spoilereket\n",
      "Entities:  {'Daniel Ricciardo', 'Eff Won With', 'Max Verstappenre', 'Ricciardo', 'Christian Horner'}\n",
      "Hallucinated Entities:  {'Max Verstley - t', 'Max Versthenhez', 'Max Verstppen - korszakból', 'Christopher Hornerhez', 'Danny Brawn', 'Daniel Riccirdo', 'Rossian Hornernek', 'Christopher Hornert', 'Max Verst Vettelt', 'Christopher Hornernek', 'Christopher Horner', 'Christian', 'Christian Streamnek'}\n"
     ]
    }
   ],
   "source": [
    "run_ner_remove_unwanted_entities_test_case(test_case, prompt, model, tokenizer, ner_model, ner_tokenizer)"
   ]
  },
  {
   "cell_type": "markdown",
   "id": "06c60ce6",
   "metadata": {},
   "source": [
    "# Length Constraint"
   ]
  },
  {
   "cell_type": "code",
   "execution_count": 3,
   "id": "a071cc0f",
   "metadata": {},
   "outputs": [],
   "source": [
    "def run_control_case(prompt, model, tokenizer):\n",
    "    print(f\"Model: {model.config.to_dict()['_name_or_path']}\")\n",
    "    print(\"----------------------------------------------\")\n",
    "\n",
    "    input_ids = tokenizer.encode(prompt, return_tensors=\"pt\")\n",
    "    output = model.generate(\n",
    "        input_ids,\n",
    "        num_beams=10,\n",
    "        no_repeat_ngram_size=2,\n",
    "        encoder_no_repeat_ngram_size=3\n",
    "    )\n",
    "    \n",
    "    generated_text = tokenizer.decode(output[0], skip_special_tokens=True)\n",
    "    print(\"Output: \", generated_text)"
   ]
  },
  {
   "cell_type": "code",
   "execution_count": 139,
   "id": "584683f6",
   "metadata": {},
   "outputs": [],
   "source": [
    "def run_length_test_case(test_case, prompt, model, tokenizer, min_length=30, max_length=128, length_penalty=2.0, early_stopping=True):\n",
    "    print(f\"Test Case: {test_case}\")\n",
    "    print(f\"Model: {model.config.to_dict()['_name_or_path']}\")\n",
    "    print(\"----------------------------------------------\")\n",
    "\n",
    "    input_ids = tokenizer.encode(prompt, return_tensors=\"pt\")\n",
    "    \n",
    "    output = model.generate(\n",
    "        input_ids,\n",
    "        num_beams=10,\n",
    "        length_penalty=length_penalty,\n",
    "        min_length=min_length,\n",
    "        max_length=max_length,\n",
    "        early_stopping=early_stopping,\n",
    "        no_repeat_ngram_size=2\n",
    "    )\n",
    "    generated_text = tokenizer.decode(output[0], skip_special_tokens=True)\n",
    "    print(\"Output: \", generated_text)"
   ]
  },
  {
   "cell_type": "markdown",
   "id": "1997fcbb",
   "metadata": {},
   "source": [
    "## Test Case 1: Short Input Text"
   ]
  },
  {
   "cell_type": "code",
   "execution_count": 148,
   "id": "52f53e8b",
   "metadata": {},
   "outputs": [],
   "source": [
    "prompt = \"\"\"\n",
    "A gyógypedagógusok és asszisztensek mellett dajka, takarító, karbantartó is felmondott, mert nem tudták elviselni a bizonytalan pénzügyi helyzetet, hogy nyár óta a bérüknek csak egy részét kapták meg.\n",
    "\n",
    "Arról már többször is beszámoltunk a Telexen, hogy a Magyarországi Evangéliumi Testvérközösség (MET) intézményei, köztük az egyház és alapítványa által fenntartott iskolák is nehéz pénzügyi helyzetben vannak, szerintük azért, mert a kormány nem utalja ki számukra a nekik járó állami támogatásokat.\n",
    "\"\"\"\n",
    "test_case = \"Short Input Text\""
   ]
  },
  {
   "cell_type": "code",
   "execution_count": 149,
   "id": "b2729d8f",
   "metadata": {},
   "outputs": [
    {
     "name": "stdout",
     "output_type": "stream",
     "text": [
      "Model: SZTAKI-HLT/Bert2Bert-HunSum-1\n",
      "----------------------------------------------\n",
      "Output:  A,, szeretetotthonok \" intézményei közül sokan felmondtak, mert fizetésük egy részét még mindig nem kapták meg a bérükbõl.\n"
     ]
    }
   ],
   "source": [
    "run_control_case(prompt, model, tokenizer)"
   ]
  },
  {
   "cell_type": "code",
   "execution_count": 150,
   "id": "6e2fcab3",
   "metadata": {
    "scrolled": true
   },
   "outputs": [
    {
     "name": "stdout",
     "output_type": "stream",
     "text": [
      "Test Case: Short Input Text\n",
      "Model: SZTAKI-HLT/Bert2Bert-HunSum-1\n",
      "----------------------------------------------\n",
      "Output:  A a Magyarországi Evangéliumi Testvérközösség ( MET ) intézményei nem kapták meg a bérük egy részét, mert a kormány nem utalja ki nekik a nekik járó állami támogatást.\n"
     ]
    }
   ],
   "source": [
    "run_length_test_case(test_case, prompt, model, tokenizer, min_length=30, max_length=128, length_penalty=2.0, early_stopping=True)"
   ]
  },
  {
   "cell_type": "markdown",
   "id": "bd777a48",
   "metadata": {},
   "source": [
    "## Test Case 2: Long Input Text"
   ]
  },
  {
   "cell_type": "code",
   "execution_count": 151,
   "id": "45101c86",
   "metadata": {},
   "outputs": [],
   "source": [
    "prompt = \"\"\"\n",
    "A pluszterületet a környező, önkormányzati tulajdonú ingatlanok rovására építették be. A Pénzügyminisztérium válaszul átad 25 négyzetmétert a Szentháromság tér közelében, de az önkormányzat tulajdonvesztése ezzel továbbra is 387 négyzetméter marad – írja a lap a kerület csütörtöki testületi ülésére készült előterjesztésének alapján.\n",
    "\n",
    "„A dolog úgy derült ki, hogy kértek egy telekrendezést, amire a kerület felülvizsgálatot kezdeményezett, és kiderült a jelentős túlépítés. Az ingatlan értékbecslése megtörtént, a magyar állam 207 millió forintot fizet a közterületekért” – idézi a Népszava az I. kerületi polgármestert.\n",
    "\n",
    "A kormány 2017-ben döntött úgy, hogy ismét beköltözteti a Várba a Pénzügyminisztériumot. 2020-ban kezdődött az építkezés, akkor 54 milliárdot szántak rá, az idén nyárra már 100 milliárd felett járó költségekhez augusztusban újabb 4,4 milliárdot írtak hozzá. A pénz bútorokra, audiovizuális eszközökre, belsőépítészeti munkákra, piperekiegészítőkre és teakonyhákra kell. A feladatot két NER-kötelékbe tartozó cégre bízták, írja a lap.\n",
    "\"\"\"\n",
    "test_case = \"Long Input Text\""
   ]
  },
  {
   "cell_type": "code",
   "execution_count": 152,
   "id": "a43485c9",
   "metadata": {},
   "outputs": [
    {
     "name": "stdout",
     "output_type": "stream",
     "text": [
      "Model: SZTAKI-HLT/Bert2Bert-HunSum-1\n",
      "----------------------------------------------\n",
      "Output:  A II. kerületi önkormányzat visszakapta a Budai Várba beköltöztetett Pénzügyminisztérium ( PM ) pluszterületét, amelyet a várba költöztetett a kormány.\n"
     ]
    }
   ],
   "source": [
    "run_control_case(prompt, model, tokenizer)"
   ]
  },
  {
   "cell_type": "code",
   "execution_count": 153,
   "id": "3ccbf805",
   "metadata": {},
   "outputs": [
    {
     "name": "stdout",
     "output_type": "stream",
     "text": [
      "Test Case: Long Input Text\n",
      "Model: SZTAKI-HLT/Bert2Bert-HunSum-1\n",
      "----------------------------------------------\n",
      "Output:  A a Szentháromság térnél, a Várba költözik a Pénzügyminisztérium – írja a Népszava az I. kerületi önkormányzat előterjesztésére hivatkozva. A lap szerint a kormány 207 millió forintot fizet ki a kerületnek.\n"
     ]
    }
   ],
   "source": [
    "run_length_test_case(test_case, prompt, model, tokenizer, min_length=30, max_length=128, length_penalty=2.0, early_stopping=True)"
   ]
  },
  {
   "cell_type": "markdown",
   "id": "1dbe7b88",
   "metadata": {},
   "source": [
    "# Repetition Control"
   ]
  },
  {
   "cell_type": "code",
   "execution_count": 49,
   "id": "d205cf4a",
   "metadata": {},
   "outputs": [],
   "source": [
    "def run_control_case(prompt, model, tokenizer):\n",
    "    print(f\"Model: {model.config.to_dict()['_name_or_path']}\")\n",
    "    print(\"----------------------------------------------\")\n",
    "\n",
    "    input_ids = tokenizer.encode(prompt, return_tensors=\"pt\")\n",
    "    output = model.generate(\n",
    "        input_ids,\n",
    "        num_beams=10,\n",
    "        length_penalty=2,\n",
    "        max_length=128,\n",
    "        early_stopping=True,\n",
    "        encoder_no_repeat_ngram_size=1\n",
    "    )\n",
    "    \n",
    "    generated_text = tokenizer.decode(output[0], skip_special_tokens=True)\n",
    "    print(\"Output: \", generated_text)"
   ]
  },
  {
   "cell_type": "code",
   "execution_count": 64,
   "id": "2b42c9be",
   "metadata": {},
   "outputs": [],
   "source": [
    "def run_repetition_test_case(test_case, prompt, model, tokenizer, no_repeat_ngram_size=2, encoder_no_repeat_ngram_size=3, repetition_penalty=2.0):\n",
    "    print(f\"Test Case: {test_case}\")\n",
    "    print(f\"Model1: {model.config.to_dict()['_name_or_path']}\")\n",
    "    print(\"----------------------------------------------\")\n",
    "\n",
    "    input_ids = tokenizer.encode(prompt, return_tensors=\"pt\")\n",
    "    \n",
    "    output = model.generate(\n",
    "        input_ids,\n",
    "        num_beams=10,\n",
    "        no_repeat_ngram_size=no_repeat_ngram_size,\n",
    "        encoder_no_repeat_ngram_size=encoder_no_repeat_ngram_size,\n",
    "        repetition_penalty=repetition_penalty,\n",
    "        length_penalty=2,\n",
    "        max_length=128,\n",
    "        early_stopping=True\n",
    "    )\n",
    "    generated_text = tokenizer.decode(output[0], skip_special_tokens=True)\n",
    "    print(\"Output: \", generated_text)"
   ]
  },
  {
   "cell_type": "markdown",
   "id": "d0695536",
   "metadata": {},
   "source": [
    "## Test Case 1: Redundant Information"
   ]
  },
  {
   "cell_type": "code",
   "execution_count": 78,
   "id": "6767e088",
   "metadata": {},
   "outputs": [],
   "source": [
    "prompt = \"\"\"\n",
    "Az a vezetés, ami Brüsszelben van, egy globalista elit megbízását teljesíti - jelentette ki a miniszterelnök pénteken a Kossuth rádió Jó reggelt, Magyarország! című műsorában.\n",
    "\n",
    "Orbán Viktor kiemelte: a brüsszeli vezetés nemcsak nem azt csinálja, amit a magyarok szeretnének, hanem azt sem, amit általában az európai emberek. Az emberek nem akarnak migrációt, háborút, békétlenséget, jól megtervezett zöld átmenetet akarnak, és nem olyat, ami tönkreteszi az iparukat - tette hozzá.\n",
    "\n",
    "A kormányfő rámutatott:\n",
    " a brüsszeli vezetést foglyul ejtette egy globalista elit, pénzügyi csoportok, nagy gazdasági erőcsoportok, és a brüsszeliek döntéseit ezek érdekei motiválják, nem pedig a magyar, német, francia vagy az olasz emberek érdeke.\n",
    "\n",
    "Ezért kell változást elérni - jelentette ki a miniszterelnök\n",
    "\"\"\"\n",
    "test_case = \"Redundant Information\""
   ]
  },
  {
   "cell_type": "code",
   "execution_count": 79,
   "id": "1e3fd8c5",
   "metadata": {},
   "outputs": [
    {
     "name": "stdout",
     "output_type": "stream",
     "text": [
      "Model: SZTAKI-HLT/Bert2Bert-HunSum-1\n",
      "----------------------------------------------\n",
      "Output:  Nem \" kormányátalakítás \" kezdõdött Budapest belvárosában péntek délelõtt ; ez lesz Európa új vezetõinek elsõ találkozója ; ez lesz Európa új vezetõinek elsõ találkozója ; õrizni fogják Budapest látképét ; õrizni fogják Budapest látképét ; õrizni fogják Budapest látképét ; õrizni fogják Budapest látképét ; õrizni fogják Budapest látképét ; õrizni fogják Budapest látképét ; õrizni fogják Budapest látképét is ; õrizni fogják Budapest látképét is ; õrizni fogják\n"
     ]
    }
   ],
   "source": [
    "run_control_case(prompt, model, tokenizer)"
   ]
  },
  {
   "cell_type": "code",
   "execution_count": 80,
   "id": "ebfaa0c1",
   "metadata": {
    "scrolled": true
   },
   "outputs": [
    {
     "name": "stdout",
     "output_type": "stream",
     "text": [
      "Test Case: Redundant Information\n",
      "Model1: SZTAKI-HLT/Bert2Bert-HunSum-1\n",
      "----------------------------------------------\n",
      "Output:  A Viktor miniszterelnök péntek reggeli rádióinterjújában arról beszélt, hogy a brüsszeli elitnek egy globális elit megbízásából kell cselekednie.\n"
     ]
    }
   ],
   "source": [
    "run_repetition_test_case(test_case, prompt, model, tokenizer, no_repeat_ngram_size=2, encoder_no_repeat_ngram_size=3, repetition_penalty=2.0)"
   ]
  },
  {
   "cell_type": "code",
   "execution_count": 81,
   "id": "089d7ab8",
   "metadata": {},
   "outputs": [],
   "source": [
    "prompt = \"\"\"\n",
    "Idegenrendészeti szigorításra van szükség a növekvő migrációs nyomás miatt - jelentette ki a miniszterelnök péntek reggel a Kossuth rádió Jó reggelt, Magyarország! című műsorában.\n",
    "\n",
    "Orbán Viktor az interjúban azt mondta, a jelenleg hatályos magyar szabályozás jól kezelte a 2015-ös migrációs válságot, a Brüsszellel vívott csatáknak jó eszköze volt, de a migrációs nyomás nő, ezért szigorítani kell a jogszabályon.\n",
    "\"\"\"\n",
    "test_case = \"Redundant Information\""
   ]
  },
  {
   "cell_type": "code",
   "execution_count": 82,
   "id": "e96cabd5",
   "metadata": {},
   "outputs": [
    {
     "name": "stdout",
     "output_type": "stream",
     "text": [
      "Model: SZTAKI-HLT/Bert2Bert-HunSum-1\n",
      "----------------------------------------------\n",
      "Output:  A A belpolitikában is szigorúbb fellépést rendelt el Angela Merkel német kancellár és Charles Michel francia államfõ is Magyarországra érkezendõ migránshullámmal szemben : szigorúbb ellenõrzéseket rendeltek el és szigorúbb határellenõrzéseket rendeltek el minden migránstáborban és menekülttáborban – hangzott el egy szerda reggeli tévéinterjúban – tudta meg reggeli hírösszefoglalóban tudósítóinktól egy szerda reggeli rádiós híradásban vagy egy reggeli rádiós hírmûsorban ( reggeli hírmûsorban vagy hírmûsorban nem is hallottunk ilyen jelentõsebb beavatkozást ( ez nem is igaz ) ) )\n"
     ]
    }
   ],
   "source": [
    "run_control_case(prompt, model, tokenizer)"
   ]
  },
  {
   "cell_type": "code",
   "execution_count": 83,
   "id": "4dfcbe19",
   "metadata": {
    "scrolled": true
   },
   "outputs": [
    {
     "name": "stdout",
     "output_type": "stream",
     "text": [
      "Test Case: Redundant Information\n",
      "Model1: SZTAKI-HLT/Bert2Bert-HunSum-1\n",
      "----------------------------------------------\n",
      "Output:  A Viktor miniszterelnök által péntek reggel elmondott rádióinterjú szerint szigorúbb migrációs nyomásra van szükség, mert a mostani migrációs nyomás nem volt jó.\n"
     ]
    }
   ],
   "source": [
    "run_repetition_test_case(test_case, prompt, model, tokenizer, no_repeat_ngram_size=3, encoder_no_repeat_ngram_size=3, repetition_penalty=2.0)"
   ]
  },
  {
   "cell_type": "markdown",
   "id": "6e732d1d",
   "metadata": {},
   "source": [
    "# Lemmatization"
   ]
  },
  {
   "cell_type": "code",
   "execution_count": 1,
   "id": "a28c79f1",
   "metadata": {},
   "outputs": [],
   "source": [
    "def lemmatize(sentences, nlp):\n",
    "    lemmatized = []\n",
    "    if isinstance(sentences, str):\n",
    "        sentences = [sentences]\n",
    "\n",
    "    for sentence in sentences:\n",
    "        result = nlp(sentence)\n",
    "        for res in result:\n",
    "            lemmatized.append(res)\n",
    "\n",
    "    return lemmatized[0] if len(lemmatized) == 1 else lemmatized"
   ]
  },
  {
   "cell_type": "code",
   "execution_count": 14,
   "id": "e1018c64",
   "metadata": {},
   "outputs": [],
   "source": [
    "def run_omit_word_lemma_test_case(test_case, prompt, omit_words, model, tokenizer, nlp):\n",
    "    print(f\"Test Case: {test_case}\")\n",
    "    print(f\"Model: {model.config.to_dict()['_name_or_path']}\")\n",
    "    print(\"----------------------------------------------\")\n",
    "    \n",
    "    input_ids = tokenizer.encode(prompt, return_tensors=\"pt\")\n",
    "    omit_tokens = []\n",
    "    for omit_word in omit_words:\n",
    "        token = tokenizer.encode(omit_word, add_special_tokens=False)\n",
    "        omit_tokens.append(token)\n",
    "        \n",
    "    output = model.generate(\n",
    "        input_ids,\n",
    "        bad_words_ids=omit_tokens,\n",
    "        num_beams=10,\n",
    "        no_repeat_ngram_size=2,\n",
    "        encoder_no_repeat_ngram_size=3,\n",
    "        length_penalty=2,\n",
    "        min_length=30,\n",
    "        max_length=128,\n",
    "        early_stopping=True\n",
    "    )\n",
    "    \n",
    "    generated_text = tokenizer.decode(output[0], skip_special_tokens=True)\n",
    "    lemmatized_text = lemmatize(generated_text, nlp)\n",
    "    lemmatized_omit_words = lemmatize(omit_words, nlp)\n",
    "    new_run = False\n",
    "    \n",
    "    for omit_word in lemmatized_omit_words:\n",
    "        for text in lemmatized_text:\n",
    "            if omit_word.lemma_ == text.lemma_:\n",
    "                new_run = True\n",
    "                omit_words.append(text.text)\n",
    "                \n",
    "    while new_run:\n",
    "        print(f\"Retrying...\")\n",
    "        print(generated_text)\n",
    "        omit_words = list(set(omit_words))\n",
    "        omit_tokens = []\n",
    "        for omit_word in omit_words:\n",
    "            token = tokenizer.encode(omit_word, add_special_tokens=False)\n",
    "            omit_tokens.append(token)\n",
    "            \n",
    "        print(f\"New Omit words: {omit_words}\")\n",
    "        input_ids = tokenizer.encode(generated_text, return_tensors=\"pt\")\n",
    "        output = model.generate(\n",
    "            input_ids,\n",
    "            bad_words_ids=omit_tokens,\n",
    "            num_beams=10,\n",
    "            no_repeat_ngram_size=2,\n",
    "            encoder_no_repeat_ngram_size=3,\n",
    "            length_penalty=2,\n",
    "            max_length=128,\n",
    "            early_stopping=True\n",
    "        )\n",
    "        generated_text = tokenizer.decode(output[0], skip_special_tokens=True)            \n",
    "        if all(omit_word not in generated_text for omit_word in omit_words):\n",
    "            new_run = False\n",
    "            break\n",
    "        \n",
    "        lemmatized_text = lemmatize(generated_text, nlp)\n",
    "        lemmatized_omit_words = lemmatize(omit_words, nlp)\n",
    "        for omit_word in lemmatized_omit_words:\n",
    "            for text in lemmatized_text:\n",
    "                if omit_word.lemma_ == text.lemma_:\n",
    "                    new_run = True\n",
    "                    omit_words.append(text.text)\n",
    "    print()\n",
    "    print(\"Output: \", generated_text)\n",
    "    print(\"Final Omits: \", omit_words)"
   ]
  },
  {
   "cell_type": "code",
   "execution_count": 17,
   "id": "d4c587d0",
   "metadata": {},
   "outputs": [],
   "source": [
    "prompt = \"\"\"\n",
    "Novembertől a nagyközönség számára is elérhetővé vált a Credential Manager nevezetű funkció, amelynek köszönhetően a korábbinál sokkal biztonságosabb platformmá válhat az Android – legalábbis a Google szerint.\n",
    "Ahogy arról korábban már az Index is beszámolt, az idén októberben megtartott Google I/O-n rengeteg mindenről szó esett. A Google amellett, hogy bemutatta legújabb telefonjait, a Google Pixel 8-at és a Pixel 8 Prót, illetve új okosóráját, a Google Pixel Watch 2-t, egyéb témákra is kitért – például a biztonságra.\n",
    "\"\"\"\n",
    "bad_words = [\"Google\", \"biztonságosabbá\"]\n",
    "test_case = \"Negation\""
   ]
  },
  {
   "cell_type": "code",
   "execution_count": 12,
   "id": "58a6cb69",
   "metadata": {},
   "outputs": [
    {
     "name": "stdout",
     "output_type": "stream",
     "text": [
      "Model: SZTAKI-HLT/mT5-base-HunSum-1\n",
      "----------------------------------------------\n",
      "Output:  A Google szerint az Android biztonságosabbá válhat, mint az eddigi platformok.\n"
     ]
    }
   ],
   "source": [
    "run_control_case(prompt, model, tokenizer)"
   ]
  },
  {
   "cell_type": "code",
   "execution_count": 18,
   "id": "6f2662d8",
   "metadata": {},
   "outputs": [
    {
     "name": "stdout",
     "output_type": "stream",
     "text": [
      "Test Case: Negation\n",
      "Model: SZTAKI-HLT/mT5-base-HunSum-1\n",
      "----------------------------------------------\n",
      "Retrying...\n",
      "Többek között arról is beszélt a keresőóriás, milyen biztonsági funkciót kapott az Android, és hogy mennyire biztonságos az operációs rendszer.\n",
      "New Omit words: ['Google', 'biztonságosabbá', 'biztonságos']\n",
      "\n",
      "Output:  Az Android fejlesztői a közösségi oldalukon tették közzé, hogy milyen funkciók vannak az Android operációs rendszerben.\n",
      "Final Omits:  ['Google', 'biztonságosabbá', 'biztonságos']\n"
     ]
    }
   ],
   "source": [
    "run_omit_word_lemma_test_case(test_case, prompt, bad_words, model, tokenizer, nlp)"
   ]
  },
  {
   "cell_type": "markdown",
   "id": "30e235f9",
   "metadata": {},
   "source": [
    "# Evaluation"
   ]
  },
  {
   "cell_type": "code",
   "execution_count": 28,
   "id": "bc4482a1",
   "metadata": {},
   "outputs": [],
   "source": [
    "huspacy.download(\"hu_core_news_lg\")\n",
    "nlp = spacy.load(\"hu_core_news_lg\")"
   ]
  },
  {
   "cell_type": "code",
   "execution_count": 29,
   "id": "f182676f",
   "metadata": {
    "scrolled": true
   },
   "outputs": [
    {
     "name": "stderr",
     "output_type": "stream",
     "text": [
      "[nltk_data] Downloading package punkt to\n",
      "[nltk_data]     C:\\Users\\nyist\\AppData\\Roaming\\nltk_data...\n",
      "[nltk_data]   Package punkt is already up-to-date!\n",
      "[nltk_data] Downloading package stopwords to\n",
      "[nltk_data]     C:\\Users\\nyist\\AppData\\Roaming\\nltk_data...\n",
      "[nltk_data]   Package stopwords is already up-to-date!\n"
     ]
    }
   ],
   "source": [
    "def preprocess_text(raw_text, nlp, remove_punctuation=False, lower_case=True, remove_stopwords=False, lemmatize=True):\n",
    "    if lower_case:\n",
    "        raw_text = raw_text.lower()\n",
    "        \n",
    "    if remove_punctuation:\n",
    "        raw_text = raw_text.translate(str.maketrans('', '', string.punctuation))\n",
    "\n",
    "    doc = nlp(raw_text)\n",
    "\n",
    "    tokens = []\n",
    "\n",
    "    for token in doc:\n",
    "        if lemmatize:\n",
    "            token_text = token.lemma_\n",
    "        else:\n",
    "            token_text = token.text\n",
    "\n",
    "        if remove_stopwords:\n",
    "            if token_text.lower() not in nlp.Defaults.stop_words and not token.is_punct:\n",
    "                tokens.append(token_text)\n",
    "        else:\n",
    "            if not token.is_punct:\n",
    "                tokens.append(token_text)\n",
    "    \n",
    "    preprocessed_text = ' '.join(tokens)\n",
    "    \n",
    "    return preprocessed_text\n",
    "\n",
    "def run_rouge(nlp, control, generated, reference):\n",
    "    reference_processed = preprocess_text(reference, nlp, remove_punctuation=True, lower_case=True, remove_stopwords=False)\n",
    "    generated_processed = preprocess_text(generated, nlp, remove_punctuation=True, lower_case=True, remove_stopwords=False)\n",
    "    \n",
    "    rouge = Rouge()\n",
    "    control_processed = preprocess_text(control, nlp, remove_punctuation=True, lower_case=True, remove_stopwords=False)\n",
    "    control_scores = rouge.get_scores(control_processed, reference_processed)\n",
    "    \n",
    "    generated_scores = rouge.get_scores(generated_processed, reference_processed)\n",
    "    \n",
    "    return control_scores[0], generated_scores[0]\n",
    "\n",
    "def run_bleu(control, generated, reference):\n",
    "    reference_processed = preprocess_text(reference, nlp, remove_punctuation=False, lower_case=True, remove_stopwords=False)\n",
    "    generated_processed = preprocess_text(generated, nlp, remove_punctuation=False, lower_case=True, remove_stopwords=False)\n",
    "    control_processed = preprocess_text(control, nlp, remove_punctuation=False, lower_case=True, remove_stopwords=False)\n",
    "    \n",
    "    reference_processed = [reference_processed.split()]\n",
    "    generated_processed = generated_processed.split()\n",
    "    control_processed = control_processed.split()\n",
    "    \n",
    "    control_score = sentence_bleu(reference_processed, control_processed, smoothing_function=SmoothingFunction().method2)\n",
    "    generated_score = sentence_bleu(reference_processed, generated_processed, smoothing_function=SmoothingFunction().method2)\n",
    "    \n",
    "    return control_score, generated_score"
   ]
  },
  {
   "cell_type": "code",
   "execution_count": 30,
   "id": "285e74cc",
   "metadata": {},
   "outputs": [],
   "source": [
    "def run_metrics(nlp, control, generated, reference):\n",
    "    control_rouge_scores, generated_rouge_scores = run_rouge(nlp, control, generated, reference)\n",
    "    control_bleu_score, generated_bleu_score = run_bleu(control, generated, reference)\n",
    "\n",
    "    results = {\n",
    "        'Metric': ['ROUGE-1', 'ROUGE-2', 'ROUGE-L', 'BLEU'],\n",
    "        'Control': [control_rouge_scores['rouge-1']['f'], control_rouge_scores['rouge-2']['f'], control_rouge_scores['rouge-l']['f'], control_bleu_score],\n",
    "        'Generated': [generated_rouge_scores['rouge-1']['f'], generated_rouge_scores['rouge-2']['f'], generated_rouge_scores['rouge-l']['f'], generated_bleu_score]\n",
    "    }\n",
    "\n",
    "    df = pd.DataFrame(results)\n",
    "    return df"
   ]
  },
  {
   "cell_type": "code",
   "execution_count": 36,
   "id": "86e5115b",
   "metadata": {},
   "outputs": [],
   "source": [
    "def run_metrics_multiple(nlp, controls, generateds, references):\n",
    "    total_scores = {\n",
    "        'ROUGE-1': {'Control': 0, 'Generated': 0},\n",
    "        'ROUGE-2': {'Control': 0, 'Generated': 0},\n",
    "        'ROUGE-L': {'Control': 0, 'Generated': 0},\n",
    "        'BLEU': {'Control': 0, 'Generated': 0}\n",
    "    }\n",
    "    \n",
    "    for control, generated, reference in zip(controls, generateds, references):\n",
    "        if control and generated and reference:\n",
    "            control_rouge_scores, generated_rouge_scores = run_rouge(nlp, control, generated, reference)\n",
    "            control_bleu_score, generated_bleu_score = run_bleu(control, generated, reference)\n",
    "\n",
    "            total_scores['ROUGE-1']['Control'] += control_rouge_scores['rouge-1']['f']\n",
    "            total_scores['ROUGE-1']['Generated'] += generated_rouge_scores['rouge-1']['f']\n",
    "            total_scores['ROUGE-2']['Control'] += control_rouge_scores['rouge-2']['f']\n",
    "            total_scores['ROUGE-2']['Generated'] += generated_rouge_scores['rouge-2']['f']\n",
    "            total_scores['ROUGE-L']['Control'] += control_rouge_scores['rouge-l']['f']\n",
    "            total_scores['ROUGE-L']['Generated'] += generated_rouge_scores['rouge-l']['f']\n",
    "            total_scores['BLEU']['Control'] += control_bleu_score\n",
    "            total_scores['BLEU']['Generated'] += generated_bleu_score\n",
    "\n",
    "    # Calculate the average scores\n",
    "    num_cases = len(controls)\n",
    "    for metric in total_scores:\n",
    "        for key in total_scores[metric]:\n",
    "            total_scores[metric][key] /= num_cases\n",
    "\n",
    "    results = {\n",
    "        'Metric': list(total_scores.keys()),\n",
    "        'Control': [total_scores[metric]['Control'] for metric in total_scores],\n",
    "        'Generated': [total_scores[metric]['Generated'] for metric in total_scores]\n",
    "    }\n",
    "\n",
    "    return pd.DataFrame(results)"
   ]
  },
  {
   "cell_type": "code",
   "execution_count": 103,
   "id": "5c21520c",
   "metadata": {
    "scrolled": true
   },
   "outputs": [
    {
     "data": {
      "text/html": [
       "<div>\n",
       "<style scoped>\n",
       "    .dataframe tbody tr th:only-of-type {\n",
       "        vertical-align: middle;\n",
       "    }\n",
       "\n",
       "    .dataframe tbody tr th {\n",
       "        vertical-align: top;\n",
       "    }\n",
       "\n",
       "    .dataframe thead th {\n",
       "        text-align: right;\n",
       "    }\n",
       "</style>\n",
       "<table border=\"1\" class=\"dataframe\">\n",
       "  <thead>\n",
       "    <tr style=\"text-align: right;\">\n",
       "      <th></th>\n",
       "      <th>Metric</th>\n",
       "      <th>Control</th>\n",
       "      <th>Generated</th>\n",
       "    </tr>\n",
       "  </thead>\n",
       "  <tbody>\n",
       "    <tr>\n",
       "      <th>0</th>\n",
       "      <td>ROUGE-1</td>\n",
       "      <td>0.812500</td>\n",
       "      <td>1.0</td>\n",
       "    </tr>\n",
       "    <tr>\n",
       "      <th>1</th>\n",
       "      <td>ROUGE-2</td>\n",
       "      <td>0.625000</td>\n",
       "      <td>1.0</td>\n",
       "    </tr>\n",
       "    <tr>\n",
       "      <th>2</th>\n",
       "      <td>ROUGE-L</td>\n",
       "      <td>0.750000</td>\n",
       "      <td>1.0</td>\n",
       "    </tr>\n",
       "    <tr>\n",
       "      <th>3</th>\n",
       "      <td>BLEU</td>\n",
       "      <td>0.618182</td>\n",
       "      <td>1.0</td>\n",
       "    </tr>\n",
       "  </tbody>\n",
       "</table>\n",
       "</div>"
      ],
      "text/plain": [
       "    Metric   Control  Generated\n",
       "0  ROUGE-1  0.812500        1.0\n",
       "1  ROUGE-2  0.625000        1.0\n",
       "2  ROUGE-L  0.750000        1.0\n",
       "3     BLEU  0.618182        1.0"
      ]
     },
     "execution_count": 103,
     "metadata": {},
     "output_type": "execute_result"
    }
   ],
   "source": [
    "control = \"It is a guide to action which ensures that the military always obeys the commands of the party\"\n",
    "generated = 'It is a guide to action which ensures that the military will forever heed Party commands'\n",
    "reference = 'It is a guide to action which ensures that the military will forever heed Party commands'\n",
    "\n",
    "df = run_metrics(nlp, control, generated, reference)\n",
    "df"
   ]
  }
 ],
 "metadata": {
  "kernelspec": {
   "display_name": "Python 3 (ipykernel)",
   "language": "python",
   "name": "python3"
  },
  "language_info": {
   "codemirror_mode": {
    "name": "ipython",
    "version": 3
   },
   "file_extension": ".py",
   "mimetype": "text/x-python",
   "name": "python",
   "nbconvert_exporter": "python",
   "pygments_lexer": "ipython3",
   "version": "3.9.12"
  }
 },
 "nbformat": 4,
 "nbformat_minor": 5
}
