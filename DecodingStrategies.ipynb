{
 "cells": [
  {
   "cell_type": "markdown",
   "id": "b4c9590d-50e6-4e8a-a031-d3bf8e7ab218",
   "metadata": {},
   "source": [
    "# Decoding Strategies"
   ]
  },
  {
   "cell_type": "markdown",
   "id": "113d00cd-63fe-40dd-9247-69e1bcd6851a",
   "metadata": {},
   "source": [
    "## Initialization"
   ]
  },
  {
   "cell_type": "code",
   "execution_count": 3,
   "id": "0f6702c0",
   "metadata": {},
   "outputs": [],
   "source": [
    "from transformers import AutoTokenizer, AutoModelForSeq2SeqLM, pipeline, set_seed\n",
    "import torch"
   ]
  },
  {
   "cell_type": "code",
   "execution_count": 4,
   "id": "0ca71d20",
   "metadata": {},
   "outputs": [],
   "source": [
    "set_seed(42)"
   ]
  },
  {
   "cell_type": "markdown",
   "id": "72e71d67",
   "metadata": {},
   "source": [
    "## Models"
   ]
  },
  {
   "cell_type": "code",
   "execution_count": 5,
   "id": "32862cc0",
   "metadata": {},
   "outputs": [],
   "source": [
    "tokenizer = AutoTokenizer.from_pretrained(\"SZTAKI-HLT/mT5-base-HunSum-1\")\n",
    "model = AutoModelForSeq2SeqLM.from_pretrained(\"SZTAKI-HLT/mT5-base-HunSum-1\")"
   ]
  },
  {
   "cell_type": "code",
   "execution_count": 7,
   "id": "1d654f01",
   "metadata": {},
   "outputs": [],
   "source": [
    "tokenizer = AutoTokenizer.from_pretrained(\"SZTAKI-HLT/mT5-base-HunSum-1\")\n",
    "model = AutoModelForSeq2SeqLM.from_pretrained(\"SZTAKI-HLT/mT5-base-HunSum-1\")"
   ]
  },
  {
   "cell_type": "markdown",
   "id": "2aea0b62-393d-41f7-a8c5-03b612ea4b35",
   "metadata": {},
   "source": [
    "## Currently Used (Beam Search)"
   ]
  },
  {
   "cell_type": "code",
   "execution_count": 9,
   "id": "39239858-c579-485f-9d8b-b2ed1eea6fb1",
   "metadata": {},
   "outputs": [
    {
     "data": {
      "text/plain": [
       "[{'summary_text': 'A magyar búvárválogatott bronzérmet nyert a csehországi Jablonecban zajló tájékozódási úszó-Eb-n, ezzel második lett.'}]"
      ]
     },
     "execution_count": 9,
     "metadata": {},
     "output_type": "execute_result"
    }
   ],
   "source": [
    "nlp = pipeline(model=model, task='summarization', tokenizer=tokenizer)\n",
    "nlp(prompt,\n",
    "    max_length=128,\n",
    "    num_beams=5,\n",
    "    length_penalty=2,\n",
    "    no_repeat_ngram_size=2,\n",
    "    encoder_no_repeat_ngram_size=3,\n",
    "    early_stopping=True\n",
    ")"
   ]
  },
  {
   "cell_type": "markdown",
   "id": "393e078b-87c7-4a37-bae6-077299fecbc9",
   "metadata": {},
   "source": [
    "## Greedy Search"
   ]
  },
  {
   "cell_type": "markdown",
   "id": "0fb6c98c-e818-4970-9f06-3d031e7ff9b5",
   "metadata": {},
   "source": [
    "Required parameters:\n",
    "- num_beams = 0\n",
    "- do_sample = False"
   ]
  },
  {
   "cell_type": "code",
   "execution_count": 8,
   "id": "3603d90f-eee8-46d2-9d11-60a1224f5436",
   "metadata": {},
   "outputs": [
    {
     "name": "stdout",
     "output_type": "stream",
     "text": [
      "generated_text:  A magyar búvárválogatott bronzérmet nyert a szolnoki Európa-bajnokságon.\n"
     ]
    }
   ],
   "source": [
    "output = model.generate(\n",
    "    input_ids,\n",
    "    num_beams=1,\n",
    "    do_sample=False,\n",
    "    max_length=128,\n",
    "    no_repeat_ngram_size=2\n",
    ")\n",
    "generated_text = tokenizer.decode(output[0], skip_special_tokens=True)\n",
    "print(\"generated_text: \", generated_text)"
   ]
  },
  {
   "cell_type": "markdown",
   "id": "b4a7049d-5105-4ace-95b9-0a5424d56873",
   "metadata": {},
   "source": [
    "## Multinomial sampling"
   ]
  },
  {
   "cell_type": "markdown",
   "id": "dc9bd23d-7328-4d71-ad5c-f389f9814e4c",
   "metadata": {},
   "source": [
    "Required parameters:\n",
    "- do_sample = True"
   ]
  },
  {
   "cell_type": "code",
   "execution_count": 7,
   "id": "f7cdc521-9626-42e2-a0f4-375c09dd9de2",
   "metadata": {},
   "outputs": [
    {
     "name": "stdout",
     "output_type": "stream",
     "text": [
      "generated_text:  Bronzérmes lett a búvárúszók szolnoki Európa-bajnokságán döntős magyar csapat, melynek összesítésében tizenketten győztek.\n"
     ]
    }
   ],
   "source": [
    "output = model.generate(\n",
    "    input_ids,\n",
    "    num_beams=1,\n",
    "    do_sample=True,\n",
    "    max_length=128,\n",
    "    no_repeat_ngram_size=2\n",
    ")\n",
    "generated_text = tokenizer.decode(output[0], skip_special_tokens=True)\n",
    "print(\"generated_text: \", generated_text)"
   ]
  },
  {
   "cell_type": "markdown",
   "id": "0a5f5d99-701f-4381-82b6-766cc4d19a4f",
   "metadata": {},
   "source": [
    "## Beam-search multinomial sampling"
   ]
  },
  {
   "cell_type": "markdown",
   "id": "2fc14be4-d9c6-4e86-a3d7-5a508a075864",
   "metadata": {},
   "source": [
    "Required parameters:\n",
    "- do_sample = True\n",
    "- num_beams > 1"
   ]
  },
  {
   "cell_type": "code",
   "execution_count": 6,
   "id": "2801fd39-9027-4c2a-83d3-101a3cb40a07",
   "metadata": {},
   "outputs": [
    {
     "name": "stdout",
     "output_type": "stream",
     "text": [
      "generated_text:  A búvárúszók Európa-bajnokságán a magyar válogatott bronzérmet szerzett.\n"
     ]
    }
   ],
   "source": [
    "output = model.generate(\n",
    "    input_ids,\n",
    "    num_beams=5,\n",
    "    do_sample=True,\n",
    "    max_length=128,\n",
    "    no_repeat_ngram_size=2\n",
    ")\n",
    "generated_text = tokenizer.decode(output[0], skip_special_tokens=True)\n",
    "print(\"generated_text: \", generated_text)"
   ]
  },
  {
   "cell_type": "markdown",
   "id": "f3fef0c0-6fe1-4108-8971-7ede07f9b6e6",
   "metadata": {},
   "source": [
    "## Diverse beam search"
   ]
  },
  {
   "cell_type": "markdown",
   "id": "fc56f81c-6753-4022-a906-fbcbda50d0a6",
   "metadata": {},
   "source": [
    "Required parameters:\n",
    "- num_beams > 1\n",
    "- num_beam_groups > 1"
   ]
  },
  {
   "cell_type": "code",
   "execution_count": 5,
   "id": "b88f5836-2a00-44cd-9096-e3bc738548d8",
   "metadata": {},
   "outputs": [
    {
     "name": "stderr",
     "output_type": "stream",
     "text": [
      "C:\\Users\\nyist\\miniconda3\\envs\\summ\\lib\\site-packages\\transformers\\generation\\beam_search.py:198: UserWarning: Passing `max_length` to BeamSearchScorer is deprecated and has no effect. `max_length` should be passed directly to `beam_search(...)`, `beam_sample(...)`, or `group_beam_search(...)`.\n",
      "  warnings.warn(\n"
     ]
    },
    {
     "name": "stdout",
     "output_type": "stream",
     "text": [
      "generated_text:  A magyar búvárválogatott bronzérmet nyert a szolnoki Európa-bajnokságon.\n"
     ]
    }
   ],
   "source": [
    "output = model.generate(\n",
    "    input_ids,\n",
    "    num_beams=5,\n",
    "    num_beam_groups=5,\n",
    "    do_sample=False,\n",
    "    max_new_tokens=128,\n",
    "    no_repeat_ngram_size=2,\n",
    "    diversity_penalty=1.0\n",
    ")\n",
    "generated_text = tokenizer.decode(output[0], skip_special_tokens=True)\n",
    "print(\"generated_text: \", generated_text)"
   ]
  },
  {
   "cell_type": "markdown",
   "id": "b5abe110-fab5-40f5-b510-9b81728dcaf3",
   "metadata": {},
   "source": [
    "## Contrastive search"
   ]
  },
  {
   "cell_type": "markdown",
   "id": "538c69d4-629f-4d71-8c7a-fee797329342",
   "metadata": {},
   "source": [
    "Required parameters:\n",
    "- penalty_alpha\n",
    "- top_k"
   ]
  },
  {
   "cell_type": "code",
   "execution_count": 4,
   "id": "737fea33-2565-4386-b0d4-632bab079dba",
   "metadata": {
    "scrolled": false
   },
   "outputs": [
    {
     "name": "stdout",
     "output_type": "stream",
     "text": [
      "generated_text:  A búvárúszók németországi Európa-bajnokságán a felnőttek mellett a juniorok is bronzérmesek lettek.\n"
     ]
    }
   ],
   "source": [
    "output = model.generate(\n",
    "    input_ids,\n",
    "    num_beams=1,\n",
    "    do_sample=False,\n",
    "    penalty_alpha=0.6,\n",
    "    top_k=4,\n",
    "    max_length=128\n",
    ")\n",
    "generated_text = tokenizer.decode(output[0], skip_special_tokens=True)\n",
    "print(\"generated_text: \", generated_text)"
   ]
  },
  {
   "cell_type": "markdown",
   "id": "a5066e62",
   "metadata": {},
   "source": [
    "## Top-k Sampling"
   ]
  },
  {
   "cell_type": "code",
   "execution_count": 7,
   "id": "3600f345",
   "metadata": {},
   "outputs": [
    {
     "name": "stdout",
     "output_type": "stream",
     "text": [
      "generated_text:  Bronzérmes lett a magyar férfi vízilabda-válogatott a szlovéniai Jablonecban zajló Európa-bajnoki selejtezőverseny egyetlen szerdai napján, amelyen már a juniorokat is a dobogó legfelszavazása segítette.\n"
     ]
    }
   ],
   "source": [
    "output = model.generate(\n",
    "    input_ids,\n",
    "    num_beams=1,\n",
    "    max_length=128,\n",
    "    do_sample=True,\n",
    "    top_k=50,\n",
    "    no_repeat_ngram_size=3,\n",
    "    encoder_no_repeat_ngram_size=4\n",
    ")\n",
    "\n",
    "generated_text = tokenizer.decode(output[0], skip_special_tokens=True)\n",
    "print(\"generated_text: \", generated_text)"
   ]
  },
  {
   "cell_type": "markdown",
   "id": "90adedc5",
   "metadata": {},
   "source": [
    "## Top-P Sampling"
   ]
  },
  {
   "cell_type": "code",
   "execution_count": 8,
   "id": "53a95da0",
   "metadata": {},
   "outputs": [
    {
     "name": "stdout",
     "output_type": "stream",
     "text": [
      "generated_text:  A lányok közül a Csépő Kelen, Horváth Ferenc, Borbély János összeállítású páros is a legjobban szerepelt a magyar búvárúszóválogatott szombat délelőtti bronzérmes versenyén.\n"
     ]
    }
   ],
   "source": [
    "output = model.generate(\n",
    "    input_ids,\n",
    "    num_beams=1,\n",
    "    max_length=128,\n",
    "    do_sample=True,\n",
    "    top_p=0.92,\n",
    "    top_k=0,\n",
    "    no_repeat_ngram_size=3,\n",
    "    encoder_no_repeat_ngram_size=4\n",
    ")\n",
    "\n",
    "generated_text = tokenizer.decode(output[0], skip_special_tokens=True)\n",
    "print(\"generated_text: \", generated_text)"
   ]
  },
  {
   "cell_type": "markdown",
   "id": "a2a04286",
   "metadata": {},
   "source": [
    "## Temperature Sampling"
   ]
  },
  {
   "cell_type": "code",
   "execution_count": 9,
   "id": "5665f9d7",
   "metadata": {},
   "outputs": [
    {
     "name": "stdout",
     "output_type": "stream",
     "text": [
      "generated_text:  A magyar búvárcsapat bronzérmet szerzett a szolnoki Európa-bajnoki búvárúszás döntőjében, amelyen a férfiak mellett ugyancsak aranyérmet nyertek a junior kategóriában.\n"
     ]
    }
   ],
   "source": [
    "output = model.generate(\n",
    "    input_ids,\n",
    "    do_sample=True,           \n",
    "    temperature=0.7,\n",
    "    max_length=128,\n",
    "    no_repeat_ngram_size=3,\n",
    "    encoder_no_repeat_ngram_size=4\n",
    ")\n",
    "\n",
    "generated_text = tokenizer.decode(output[0], skip_special_tokens=True)\n",
    "print(\"generated_text: \", generated_text)"
   ]
  },
  {
   "cell_type": "markdown",
   "id": "bf881431-227d-47bf-aad0-ab99c0a6004d",
   "metadata": {},
   "source": [
    "### Sources:\n",
    "- https://huggingface.co/docs/transformers/v4.27.2/en/generation_strategies\n",
    "- https://huggingface.co/blog/how-to-generate\n",
    "- https://arxiv.org/abs/2202.06417\n",
    "- https://arxiv.org/pdf/1610.02424.pdf"
   ]
  }
 ],
 "metadata": {
  "kernelspec": {
   "display_name": "Python 3 (ipykernel)",
   "language": "python",
   "name": "python3"
  },
  "language_info": {
   "codemirror_mode": {
    "name": "ipython",
    "version": 3
   },
   "file_extension": ".py",
   "mimetype": "text/x-python",
   "name": "python",
   "nbconvert_exporter": "python",
   "pygments_lexer": "ipython3",
   "version": "3.9.12"
  }
 },
 "nbformat": 4,
 "nbformat_minor": 5
}
