{
 "cells": [
  {
   "cell_type": "markdown",
   "id": "b4c9590d-50e6-4e8a-a031-d3bf8e7ab218",
   "metadata": {},
   "source": [
    "## Decoding Strategies"
   ]
  },
  {
   "cell_type": "markdown",
   "id": "113d00cd-63fe-40dd-9247-69e1bcd6851a",
   "metadata": {},
   "source": [
    "### Initialization"
   ]
  },
  {
   "cell_type": "code",
   "execution_count": 40,
   "id": "7bb96e2c-cb7a-440a-97e3-7234ef220bd9",
   "metadata": {},
   "outputs": [],
   "source": [
    "from transformers import AutoTokenizer, AutoModelForSeq2SeqLM, pipeline\n",
    "\n",
    "tokenizer = AutoTokenizer.from_pretrained(\"SZTAKI-HLT/mT5-small-HunSum-1\")\n",
    "model = AutoModelForSeq2SeqLM.from_pretrained(\"SZTAKI-HLT/mT5-small-HunSum-1\")\n",
    "\n",
    "prompt = \"\"\"\n",
    "A magyar szövetség vasárnapi tájékoztatása szerint a Jablonec nad Nisouban rendezett kontinensbajnokság szombati zárónapján a felnőtteknél a csoportos számban a Balázs Péter, Cséplő Kelen, Várszegi Vendel, Szász Tamás alkotta kvartett végzett bronzérmesként.\n",
    "\n",
    "A 17 dobogós helyezéssel a magyarok másodikak lettek az éremtáblázaton\n",
    "\n",
    "Kiss Bence csapatvezető szerint sikeres Európa-bajnokságot zártak a búvárok. Kiemelte: kiegyensúlyozott volt a válogatott, és külön öröm, hogy a felnőttek mellett a juniorok is eredményesen szerepeltek, mivel az ő eredményük is beleszámít az éremtáblázatba.\n",
    "\n",
    "Tájékozódási búvárúszásban Monk, csillag, öt bója, szlalom, paralel és csoportos számokban rendeznek versenyeket, ezekben külön-külön bajnokokat is avatnak.\n",
    "\"\"\"\n",
    "\n",
    "input_ids = tokenizer.encode(prompt, return_tensors=\"pt\")"
   ]
  },
  {
   "cell_type": "markdown",
   "id": "2aea0b62-393d-41f7-a8c5-03b612ea4b35",
   "metadata": {},
   "source": [
    "### Currently Used (Beam Search)"
   ]
  },
  {
   "cell_type": "code",
   "execution_count": 4,
   "id": "39239858-c579-485f-9d8b-b2ed1eea6fb1",
   "metadata": {},
   "outputs": [
    {
     "data": {
      "text/plain": [
       "[{'summary_text': 'A magyar férfi búvárválogatott bronzérmet nyert a csehországi Zágrábban zajló európai öttusa-világbajnokságon, amelynek utolsó állomása az első helyen végzett.'}]"
      ]
     },
     "execution_count": 4,
     "metadata": {},
     "output_type": "execute_result"
    }
   ],
   "source": [
    "nlp = pipeline(model=model, task='summarization', tokenizer=tokenizer)\n",
    "nlp(prompt,\n",
    "    max_length=128,\n",
    "    num_beams=5,\n",
    "    length_penalty=2,\n",
    "    no_repeat_ngram_size=2,\n",
    "    encoder_no_repeat_ngram_size=3,\n",
    "    early_stopping=True\n",
    ")"
   ]
  },
  {
   "cell_type": "markdown",
   "id": "393e078b-87c7-4a37-bae6-077299fecbc9",
   "metadata": {},
   "source": [
    "### Greedy Search"
   ]
  },
  {
   "cell_type": "markdown",
   "id": "0fb6c98c-e818-4970-9f06-3d031e7ff9b5",
   "metadata": {},
   "source": [
    "Required parameters:\n",
    "- num_beams = 0\n",
    "- do_sample = False"
   ]
  },
  {
   "cell_type": "code",
   "execution_count": 15,
   "id": "3603d90f-eee8-46d2-9d11-60a1224f5436",
   "metadata": {},
   "outputs": [
    {
     "name": "stdout",
     "output_type": "stream",
     "text": [
      "generated_text:  A magyar férfi búvárválogatott bronzérmet nyert a budapesti Európa-bajnokságon, amelyen ezzel elsőként érmes lett.\n"
     ]
    }
   ],
   "source": [
    "output = model.generate(\n",
    "    input_ids,\n",
    "    num_beams=1,\n",
    "    do_sample=False,\n",
    "    max_length=128,\n",
    "    no_repeat_ngram_size=2\n",
    ")\n",
    "generated_text = tokenizer.decode(output[0], skip_special_tokens=True)\n",
    "print(\"generated_text: \", generated_text)"
   ]
  },
  {
   "cell_type": "markdown",
   "id": "b4a7049d-5105-4ace-95b9-0a5424d56873",
   "metadata": {},
   "source": [
    "### Multinomial sampling\n"
   ]
  },
  {
   "cell_type": "markdown",
   "id": "dc9bd23d-7328-4d71-ad5c-f389f9814e4c",
   "metadata": {},
   "source": [
    "Required parameters:\n",
    "- do_sample = True"
   ]
  },
  {
   "cell_type": "code",
   "execution_count": 41,
   "id": "f7cdc521-9626-42e2-a0f4-375c09dd9de2",
   "metadata": {},
   "outputs": [
    {
     "name": "stdout",
     "output_type": "stream",
     "text": [
      "generated_text:  Minden második helyen végzett a kétnapos búvárúszásban résztvevő magyar búvóválogatott Strasbourgban.\n"
     ]
    }
   ],
   "source": [
    "output = model.generate(\n",
    "    input_ids,\n",
    "    num_beams=1,\n",
    "    do_sample=True,\n",
    "    max_length=128,\n",
    "    no_repeat_ngram_size=2\n",
    ")\n",
    "generated_text = tokenizer.decode(output[0], skip_special_tokens=True)\n",
    "print(\"generated_text: \", generated_text)"
   ]
  },
  {
   "cell_type": "markdown",
   "id": "0a5f5d99-701f-4381-82b6-766cc4d19a4f",
   "metadata": {},
   "source": [
    "### Beam-search multinomial sampling\n"
   ]
  },
  {
   "cell_type": "markdown",
   "id": "2fc14be4-d9c6-4e86-a3d7-5a508a075864",
   "metadata": {},
   "source": [
    "Required parameters:\n",
    "- do_sample = True\n",
    "- num_beams > 1"
   ]
  },
  {
   "cell_type": "code",
   "execution_count": 42,
   "id": "2801fd39-9027-4c2a-83d3-101a3cb40a07",
   "metadata": {},
   "outputs": [
    {
     "name": "stdout",
     "output_type": "stream",
     "text": [
      "generated_text:  A magyar férfi búvárválogatott bronzérmet nyert a budapesti Európa-bajnokság szombati zárónapján.\n"
     ]
    }
   ],
   "source": [
    "output = model.generate(\n",
    "    input_ids,\n",
    "    num_beams=5,\n",
    "    do_sample=True,\n",
    "    max_length=128,\n",
    "    no_repeat_ngram_size=2\n",
    ")\n",
    "generated_text = tokenizer.decode(output[0], skip_special_tokens=True)\n",
    "print(\"generated_text: \", generated_text)"
   ]
  },
  {
   "cell_type": "markdown",
   "id": "f3fef0c0-6fe1-4108-8971-7ede07f9b6e6",
   "metadata": {},
   "source": [
    "### Diverse beam search\n"
   ]
  },
  {
   "cell_type": "markdown",
   "id": "fc56f81c-6753-4022-a906-fbcbda50d0a6",
   "metadata": {},
   "source": [
    "Required parameters:\n",
    "- num_beams > 1\n",
    "- num_beam_groups > 1"
   ]
  },
  {
   "cell_type": "code",
   "execution_count": 45,
   "id": "b88f5836-2a00-44cd-9096-e3bc738548d8",
   "metadata": {},
   "outputs": [
    {
     "name": "stdout",
     "output_type": "stream",
     "text": [
      "generated_text:  A magyar férfi búvárválogatott bronzérmet nyert a budapesti Európa-bajnokságon, amelyen ezzel elsőként érmes lett.\n"
     ]
    }
   ],
   "source": [
    "output = model.generate(\n",
    "    input_ids,\n",
    "    num_beams=5,\n",
    "    num_beam_groups=5,\n",
    "    do_sample=False,\n",
    "    max_new_tokens=128,\n",
    "    no_repeat_ngram_size=2\n",
    ")\n",
    "generated_text = tokenizer.decode(output[0], skip_special_tokens=True)\n",
    "print(\"generated_text: \", generated_text)"
   ]
  },
  {
   "cell_type": "markdown",
   "id": "b5abe110-fab5-40f5-b510-9b81728dcaf3",
   "metadata": {},
   "source": [
    "### Contrastive search\n"
   ]
  },
  {
   "cell_type": "markdown",
   "id": "538c69d4-629f-4d71-8c7a-fee797329342",
   "metadata": {},
   "source": [
    "Required parameters:\n",
    "- penalty_alpha\n",
    "- top_k"
   ]
  },
  {
   "cell_type": "markdown",
   "id": "7f81838d-67ac-4bbb-9a5b-a41912c0f1bd",
   "metadata": {},
   "source": [
    "Not supported by our Models."
   ]
  },
  {
   "cell_type": "code",
   "execution_count": 36,
   "id": "4ce5f0fe-281d-4991-9236-2e9937ce38ce",
   "metadata": {},
   "outputs": [],
   "source": [
    "tokenizer = AutoTokenizer.from_pretrained(\"gpt2\")\n",
    "model =  AutoModelForCausalLM.from_pretrained(\"gpt2\")\n",
    "\n",
    "prompt = \"\"\"\n",
    "In a shocking finding, scientist discovered a herd of unicorns living in a remote, previously unexplored valley, in the Andes Mountains. Even more surprising to the researchers was the fact that the unicorns spoke perfect English.\n",
    "\"\"\"\n",
    "\n",
    "input_ids = tokenizer.encode(prompt, return_tensors=\"pt\")"
   ]
  },
  {
   "cell_type": "code",
   "execution_count": 39,
   "id": "737fea33-2565-4386-b0d4-632bab079dba",
   "metadata": {},
   "outputs": [
    {
     "name": "stderr",
     "output_type": "stream",
     "text": [
      "Setting `pad_token_id` to `eos_token_id`:50256 for open-end generation.\n"
     ]
    },
    {
     "name": "stdout",
     "output_type": "stream",
     "text": [
      "generated_text:  \n",
      "In a shocking finding, scientist discovered a herd of unicorns living in a remote, previously unexplored valley, in the Andes Mountains. Even more surprising to the researchers was the fact that the unicorns spoke perfect English.\n",
      "\n",
      "\"The unicorns were very intelligent, and they were very intelligent,\" said Dr. David S. Siegel, a professor of anthropology at the University of California, Berkeley. \"They were very intelligent, and they were very intelligent, and they were very intelligent.\"\n",
      "\n",
      "The researchers found that the unicorns were able to communicate with each other through their tongues.\n",
      "\n",
      "\"They were able to\n"
     ]
    }
   ],
   "source": [
    "output = model.generate(\n",
    "    input_ids,\n",
    "    num_beams=1,\n",
    "    do_sample=False,\n",
    "    penalty_alpha=0.6,\n",
    "    top_k=4,\n",
    "    max_length=128\n",
    ")\n",
    "generated_text = tokenizer.decode(output[0], skip_special_tokens=True)\n",
    "print(\"generated_text: \", generated_text)"
   ]
  },
  {
   "cell_type": "markdown",
   "id": "bf881431-227d-47bf-aad0-ab99c0a6004d",
   "metadata": {},
   "source": [
    "### Sources:\n",
    "- https://huggingface.co/docs/transformers/v4.27.2/en/generation_strategies\n",
    "- https://huggingface.co/blog/how-to-generate\n",
    "- https://arxiv.org/abs/2202.06417\n",
    "- https://arxiv.org/pdf/1610.02424.pdf"
   ]
  }
 ],
 "metadata": {
  "kernelspec": {
   "display_name": "Python 3 (ipykernel)",
   "language": "python",
   "name": "python3"
  },
  "language_info": {
   "codemirror_mode": {
    "name": "ipython",
    "version": 3
   },
   "file_extension": ".py",
   "mimetype": "text/x-python",
   "name": "python",
   "nbconvert_exporter": "python",
   "pygments_lexer": "ipython3",
   "version": "3.9.17"
  }
 },
 "nbformat": 4,
 "nbformat_minor": 5
}
